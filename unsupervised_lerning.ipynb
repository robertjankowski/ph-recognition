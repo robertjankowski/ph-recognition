{
 "cells": [
  {
   "cell_type": "markdown",
   "metadata": {},
   "source": [
    "# Testing unsupervised machine learning algorithms"
   ]
  },
  {
   "cell_type": "code",
   "execution_count": 47,
   "metadata": {},
   "outputs": [],
   "source": [
    "import numpy as np\n",
    "import pandas as pd\n",
    "from load_data import LoadData\n",
    "from sklearn.utils import shuffle"
   ]
  },
  {
   "cell_type": "code",
   "execution_count": 48,
   "metadata": {},
   "outputs": [],
   "source": [
    "data = LoadData(15)"
   ]
  },
  {
   "cell_type": "code",
   "execution_count": 49,
   "metadata": {},
   "outputs": [
    {
     "name": "stdout",
     "output_type": "stream",
     "text": [
      "no image\n",
      "(224, 4)\n"
     ]
    },
    {
     "data": {
      "text/html": [
       "<div>\n",
       "<style scoped>\n",
       "    .dataframe tbody tr th:only-of-type {\n",
       "        vertical-align: middle;\n",
       "    }\n",
       "\n",
       "    .dataframe tbody tr th {\n",
       "        vertical-align: top;\n",
       "    }\n",
       "\n",
       "    .dataframe thead th {\n",
       "        text-align: right;\n",
       "    }\n",
       "</style>\n",
       "<table border=\"1\" class=\"dataframe\">\n",
       "  <thead>\n",
       "    <tr style=\"text-align: right;\">\n",
       "      <th></th>\n",
       "      <th>blue</th>\n",
       "      <th>green</th>\n",
       "      <th>red</th>\n",
       "      <th>label</th>\n",
       "    </tr>\n",
       "  </thead>\n",
       "  <tbody>\n",
       "    <tr>\n",
       "      <th>180</th>\n",
       "      <td>1</td>\n",
       "      <td>76</td>\n",
       "      <td>222</td>\n",
       "      <td>1</td>\n",
       "    </tr>\n",
       "    <tr>\n",
       "      <th>176</th>\n",
       "      <td>164</td>\n",
       "      <td>78</td>\n",
       "      <td>90</td>\n",
       "      <td>12</td>\n",
       "    </tr>\n",
       "    <tr>\n",
       "      <th>113</th>\n",
       "      <td>117</td>\n",
       "      <td>182</td>\n",
       "      <td>43</td>\n",
       "      <td>8</td>\n",
       "    </tr>\n",
       "    <tr>\n",
       "      <th>100</th>\n",
       "      <td>205</td>\n",
       "      <td>144</td>\n",
       "      <td>70</td>\n",
       "      <td>10</td>\n",
       "    </tr>\n",
       "    <tr>\n",
       "      <th>62</th>\n",
       "      <td>0</td>\n",
       "      <td>165</td>\n",
       "      <td>254</td>\n",
       "      <td>2</td>\n",
       "    </tr>\n",
       "  </tbody>\n",
       "</table>\n",
       "</div>"
      ],
      "text/plain": [
       "     blue  green  red  label\n",
       "180     1     76  222      1\n",
       "176   164     78   90     12\n",
       "113   117    182   43      8\n",
       "100   205    144   70     10\n",
       "62      0    165  254      2"
      ]
     },
     "execution_count": 49,
     "metadata": {},
     "output_type": "execute_result"
    }
   ],
   "source": [
    "df = data.load_data()\n",
    "df = shuffle(df)\n",
    "print(df.shape)\n",
    "df.head()"
   ]
  },
  {
   "cell_type": "code",
   "execution_count": 50,
   "metadata": {},
   "outputs": [
    {
     "data": {
      "text/plain": [
       "array([10,  8, 11,  2, 13, 14, 11,  3,  5,  6, 11,  3,  7, 10,  0, 10,  0,\n",
       "       11,  5,  9,  3, 14,  3,  1,  5, 10,  4, 12,  2,  7,  1,  2,  4,  9,\n",
       "        8, 12, 12, 12,  6,  0, 14,  2,  9,  8,  6, 11, 10,  3,  5, 12,  4,\n",
       "        3,  8, 10, 13,  5])"
      ]
     },
     "execution_count": 50,
     "metadata": {},
     "output_type": "execute_result"
    }
   ],
   "source": [
    "from sklearn.cross_validation import train_test_split\n",
    "X = np.array(df.drop(['label'],axis=1))\n",
    "y = np.array(df['label'])\n",
    "X_train, X_test, y_train, y_test = train_test_split(X, y)\n",
    "X_train.shape, X_test.shape, y_train.shape, y_test.shape\n",
    "y_test"
   ]
  },
  {
   "cell_type": "code",
   "execution_count": 51,
   "metadata": {},
   "outputs": [
    {
     "data": {
      "text/plain": [
       "array([[182.        ,  21.625     ,  65.625     ],\n",
       "       [ 28.16666667, 215.        , 174.41666667],\n",
       "       [ 98.44444444, 173.        ,  17.77777778],\n",
       "       [ 33.875     ,  24.8125    , 225.625     ],\n",
       "       [ 21.1875    , 185.3125    , 250.25      ],\n",
       "       [185.26666667, 179.        ,   3.66666667],\n",
       "       [  3.375     , 168.5       ,  26.625     ],\n",
       "       [162.05263158,  76.26315789,  80.47368421],\n",
       "       [ 28.        ,  98.61538462, 241.38461538],\n",
       "       [ 71.53333333, 177.6       ,  61.93333333],\n",
       "       [202.        , 142.25      ,  58.375     ],\n",
       "       [ 58.85714286, 196.85714286, 132.28571429],\n",
       "       [130.76923077,  32.92307692,  60.76923077],\n",
       "       [227.75      ,  56.75      ,  19.5       ],\n",
       "       [  5.8       , 236.4       , 242.2       ]])"
      ]
     },
     "execution_count": 51,
     "metadata": {},
     "output_type": "execute_result"
    }
   ],
   "source": [
    "from sklearn.cluster import KMeans\n",
    "clf = KMeans(n_c)\n",
    "clf.fit(X_train)\n",
    "clf.cluster_centers_"
   ]
  },
  {
   "cell_type": "code",
   "execution_count": 52,
   "metadata": {},
   "outputs": [
    {
     "data": {
      "text/plain": [
       "array([ 4,  0,  7, 12,  5, 10,  2,  8,  9,  9,  9,  3, 12, 14,  3,  0,  9,\n",
       "        1,  8,  4,  0,  9,  7, 14,  4,  1, 10,  7,  4,  8, 10, 12, 12,  6,\n",
       "        5,  7,  7,  9, 12, 14,  6,  1,  7, 10,  7, 11,  7,  4,  5,  7,  3,\n",
       "        8,  5, 11,  3, 12,  7, 12,  4,  5,  1, 11,  0,  7,  8,  2, 12,  3,\n",
       "        0,  6,  9,  1, 12,  3, 14,  6,  2,  9,  2,  4,  5,  9,  7,  6,  6,\n",
       "       13,  7,  0,  5,  3,  2,  7,  2,  8,  3, 10,  3,  4, 11,  0,  4, 12,\n",
       "        7,  9,  6,  3,  5,  4,  4,  3, 13, 12,  2,  0,  8,  1, 10,  9,  8,\n",
       "        3,  7, 11,  5,  4, 10,  4,  5, 12,  9,  5,  5, 14,  4,  2,  7,  3,\n",
       "        1, 13,  1,  3,  8, 10,  8,  1,  1,  8,  3,  2,  5,  9, 13,  8,  5,\n",
       "        8,  7,  4,  6,  9,  1, 12,  3,  5,  7,  9,  1,  4, 11, 11])"
      ]
     },
     "execution_count": 52,
     "metadata": {},
     "output_type": "execute_result"
    }
   ],
   "source": [
    "clf.labels_"
   ]
  },
  {
   "cell_type": "code",
   "execution_count": 55,
   "metadata": {},
   "outputs": [
    {
     "name": "stdout",
     "output_type": "stream",
     "text": [
      "(56,)\n",
      "Pred:5 real:10\n",
      "Pred:2 real:8\n",
      "Pred:7 real:11\n",
      "Pred:8 real:2\n",
      "Pred:12 real:13\n",
      "Pred:12 real:14\n",
      "Pred:7 real:11\n",
      "Pred:14 real:3\n",
      "Pred:11 real:5\n",
      "Pred:1 real:6\n",
      "Pred:13 real:11\n",
      "Pred:14 real:3\n",
      "Pred:6 real:7\n",
      "Pred:5 real:10\n",
      "Pred:3 real:0\n",
      "Pred:10 real:10\n",
      "Pred:3 real:0\n",
      "Pred:13 real:11\n",
      "Pred:11 real:5\n",
      "Pred:10 real:9\n",
      "Pred:14 real:3\n",
      "Pred:12 real:14\n",
      "Pred:14 real:3\n",
      "Pred:8 real:1\n",
      "Pred:11 real:5\n",
      "Pred:13 real:10\n",
      "Pred:14 real:4\n",
      "Pred:7 real:12\n",
      "Pred:4 real:2\n",
      "Pred:9 real:7\n",
      "Pred:8 real:1\n",
      "Pred:4 real:2\n",
      "Pred:14 real:4\n",
      "Pred:5 real:9\n",
      "Pred:2 real:8\n",
      "Pred:7 real:12\n",
      "Pred:13 real:12\n",
      "Pred:7 real:12\n",
      "Pred:9 real:6\n",
      "Pred:3 real:0\n",
      "Pred:12 real:14\n",
      "Pred:4 real:2\n",
      "Pred:5 real:9\n",
      "Pred:2 real:8\n",
      "Pred:9 real:6\n",
      "Pred:7 real:11\n",
      "Pred:10 real:10\n",
      "Pred:14 real:3\n",
      "Pred:11 real:5\n",
      "Pred:0 real:12\n",
      "Pred:14 real:4\n",
      "Pred:14 real:3\n",
      "Pred:2 real:8\n",
      "Pred:10 real:10\n",
      "Pred:12 real:13\n",
      "Pred:14 real:5\n"
     ]
    }
   ],
   "source": [
    "y_pred = clf.predict(X_test)\n",
    "print(y_pred.shape)\n",
    "for i in range(len(y_pred)):\n",
    "    print('Pred:{} real:{}'.format(y_pred[i],y_test[i]))"
   ]
  },
  {
   "cell_type": "code",
   "execution_count": null,
   "metadata": {},
   "outputs": [],
   "source": []
  }
 ],
 "metadata": {
  "kernelspec": {
   "display_name": "Python 3",
   "language": "python",
   "name": "python3"
  },
  "language_info": {
   "codemirror_mode": {
    "name": "ipython",
    "version": 3
   },
   "file_extension": ".py",
   "mimetype": "text/x-python",
   "name": "python",
   "nbconvert_exporter": "python",
   "pygments_lexer": "ipython3",
   "version": "3.6.5"
  }
 },
 "nbformat": 4,
 "nbformat_minor": 2
}
