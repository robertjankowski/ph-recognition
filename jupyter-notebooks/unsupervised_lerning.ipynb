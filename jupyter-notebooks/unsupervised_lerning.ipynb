{
 "cells": [
  {
   "cell_type": "markdown",
   "metadata": {},
   "source": [
    "# Testing unsupervised machine learning algorithms"
   ]
  },
  {
   "cell_type": "code",
   "execution_count": 1,
   "metadata": {},
   "outputs": [],
   "source": [
    "import numpy as np\n",
    "import pandas as pd\n",
    "from load_data import LoadData\n",
    "from sklearn.utils import shuffle"
   ]
  },
  {
   "cell_type": "code",
   "execution_count": 2,
   "metadata": {},
   "outputs": [],
   "source": [
    "data = LoadData(29)"
   ]
  },
  {
   "cell_type": "code",
   "execution_count": 3,
   "metadata": {},
   "outputs": [
    {
     "name": "stdout",
     "output_type": "stream",
     "text": [
      "no image\n",
      "no image\n",
      "no image\n",
      "(432, 4)\n"
     ]
    },
    {
     "data": {
      "text/html": [
       "<div>\n",
       "<style scoped>\n",
       "    .dataframe tbody tr th:only-of-type {\n",
       "        vertical-align: middle;\n",
       "    }\n",
       "\n",
       "    .dataframe tbody tr th {\n",
       "        vertical-align: top;\n",
       "    }\n",
       "\n",
       "    .dataframe thead th {\n",
       "        text-align: right;\n",
       "    }\n",
       "</style>\n",
       "<table border=\"1\" class=\"dataframe\">\n",
       "  <thead>\n",
       "    <tr style=\"text-align: right;\">\n",
       "      <th></th>\n",
       "      <th>blue</th>\n",
       "      <th>green</th>\n",
       "      <th>red</th>\n",
       "      <th>label</th>\n",
       "    </tr>\n",
       "  </thead>\n",
       "  <tbody>\n",
       "    <tr>\n",
       "      <th>103</th>\n",
       "      <td>157</td>\n",
       "      <td>69</td>\n",
       "      <td>99</td>\n",
       "      <td>13</td>\n",
       "    </tr>\n",
       "    <tr>\n",
       "      <th>159</th>\n",
       "      <td>202</td>\n",
       "      <td>133</td>\n",
       "      <td>0</td>\n",
       "      <td>10</td>\n",
       "    </tr>\n",
       "    <tr>\n",
       "      <th>11</th>\n",
       "      <td>198</td>\n",
       "      <td>76</td>\n",
       "      <td>0</td>\n",
       "      <td>11</td>\n",
       "    </tr>\n",
       "    <tr>\n",
       "      <th>38</th>\n",
       "      <td>107</td>\n",
       "      <td>180</td>\n",
       "      <td>34</td>\n",
       "      <td>8</td>\n",
       "    </tr>\n",
       "    <tr>\n",
       "      <th>186</th>\n",
       "      <td>34</td>\n",
       "      <td>214</td>\n",
       "      <td>19</td>\n",
       "      <td>7</td>\n",
       "    </tr>\n",
       "  </tbody>\n",
       "</table>\n",
       "</div>"
      ],
      "text/plain": [
       "     blue  green  red  label\n",
       "103   157     69   99     13\n",
       "159   202    133    0     10\n",
       "11    198     76    0     11\n",
       "38    107    180   34      8\n",
       "186    34    214   19      7"
      ]
     },
     "execution_count": 3,
     "metadata": {},
     "output_type": "execute_result"
    }
   ],
   "source": [
    "df = data.load_data()\n",
    "df = shuffle(df)\n",
    "print(df.shape)\n",
    "df.head()"
   ]
  },
  {
   "cell_type": "code",
   "execution_count": 4,
   "metadata": {},
   "outputs": [
    {
     "name": "stderr",
     "output_type": "stream",
     "text": [
      "c:\\users\\asus\\appdata\\local\\programs\\python\\python3.6.5\\lib\\site-packages\\sklearn\\cross_validation.py:41: DeprecationWarning: This module was deprecated in version 0.18 in favor of the model_selection module into which all the refactored classes and functions are moved. Also note that the interface of the new CV iterators are different from that of this module. This module will be removed in 0.20.\n",
      "  \"This module will be removed in 0.20.\", DeprecationWarning)\n"
     ]
    },
    {
     "data": {
      "text/plain": [
       "((324, 3), (108, 3), (324,), (108,))"
      ]
     },
     "execution_count": 4,
     "metadata": {},
     "output_type": "execute_result"
    }
   ],
   "source": [
    "from sklearn.cross_validation import train_test_split\n",
    "X = np.array(df.drop(['label'],axis=1))\n",
    "y = np.array(df['label'])\n",
    "X_train, X_test, y_train, y_test = train_test_split(X, y)\n",
    "X_train.shape, X_test.shape, y_train.shape, y_test.shape"
   ]
  },
  {
   "cell_type": "code",
   "execution_count": 9,
   "metadata": {},
   "outputs": [
    {
     "data": {
      "text/plain": [
       "array([[214.44444444,  64.61111111,  17.88888889],\n",
       "       [ 21.41025641, 122.48717949, 244.25641026],\n",
       "       [ 59.24074074, 174.92592593,  40.57407407],\n",
       "       [151.76056338,  48.38028169,  67.95774648],\n",
       "       [ 24.25      ,  17.60714286, 211.60714286],\n",
       "       [ 31.42424242, 210.42424242, 150.96969697],\n",
       "       [192.88372093, 160.65116279,  22.44186047],\n",
       "       [  8.55263158, 221.97368421, 240.28947368]])"
      ]
     },
     "execution_count": 9,
     "metadata": {},
     "output_type": "execute_result"
    }
   ],
   "source": [
    "from sklearn.cluster import KMeans\n",
    "clf = KMeans()\n",
    "clf.fit(X_train)\n",
    "clf.cluster_centers_"
   ]
  },
  {
   "cell_type": "code",
   "execution_count": 10,
   "metadata": {},
   "outputs": [
    {
     "data": {
      "text/plain": [
       "array([5, 3, 4, 2, 3, 1, 3, 1, 1, 1, 2, 2, 3, 3, 3, 2, 4, 3, 5, 2, 6, 3,\n",
       "       6, 2, 6, 5, 6, 1, 1, 1, 3, 1, 7, 1, 2, 2, 2, 1, 1, 1, 5, 3, 2, 4,\n",
       "       4, 3, 3, 0, 6, 5, 1, 1, 7, 2, 4, 3, 6, 1, 1, 5, 5, 5, 4, 5, 4, 4,\n",
       "       2, 2, 2, 3, 2, 2, 1, 1, 5, 3, 4, 5, 3, 3, 3, 3, 2, 1, 2, 6, 4, 3,\n",
       "       3, 7, 2, 7, 6, 7, 6, 7, 6, 6, 3, 2, 3, 6, 6, 1, 3, 7, 4, 3, 0, 3,\n",
       "       1, 1, 7, 2, 3, 0, 7, 6, 5, 6, 6, 1, 5, 6, 2, 4, 3, 3, 6, 3, 2, 0,\n",
       "       2, 3, 3, 3, 2, 3, 7, 1, 1, 0, 4, 3, 6, 0, 7, 3, 5, 6, 6, 2, 3, 6,\n",
       "       7, 3, 5, 3, 2, 2, 1, 3, 7, 5, 6, 5, 2, 7, 3, 2, 5, 6, 7, 1, 7, 5,\n",
       "       1, 1, 4, 6, 3, 4, 2, 6, 3, 4, 6, 4, 7, 0, 6, 0, 5, 3, 3, 5, 4, 2,\n",
       "       7, 2, 6, 7, 7, 3, 3, 3, 1, 5, 3, 0, 2, 2, 5, 1, 2, 7, 6, 4, 1, 4,\n",
       "       0, 1, 4, 3, 6, 3, 2, 7, 6, 3, 7, 3, 3, 0, 2, 7, 6, 7, 5, 0, 0, 3,\n",
       "       2, 0, 2, 5, 7, 5, 4, 0, 7, 7, 6, 5, 3, 1, 7, 2, 5, 2, 4, 4, 3, 7,\n",
       "       6, 1, 0, 2, 7, 5, 3, 0, 5, 6, 7, 2, 3, 1, 5, 2, 4, 2, 3, 2, 6, 3,\n",
       "       4, 2, 3, 7, 1, 0, 1, 1, 3, 2, 3, 3, 2, 6, 3, 2, 2, 6, 3, 3, 5, 5,\n",
       "       3, 6, 6, 7, 2, 7, 7, 4, 7, 3, 7, 3, 6, 2, 4, 6])"
      ]
     },
     "execution_count": 10,
     "metadata": {},
     "output_type": "execute_result"
    }
   ],
   "source": [
    "clf.labels_"
   ]
  },
  {
   "cell_type": "code",
   "execution_count": 11,
   "metadata": {},
   "outputs": [
    {
     "name": "stdout",
     "output_type": "stream",
     "text": [
      "(108,)\n",
      "Pred:0 real:11\n",
      "Pred:3 real:11\n",
      "Pred:4 real:0\n",
      "Pred:1 real:1\n",
      "Pred:6 real:12\n",
      "Pred:2 real:8\n",
      "Pred:2 real:8\n",
      "Pred:6 real:9\n",
      "Pred:6 real:9\n",
      "Pred:4 real:1\n",
      "Pred:5 real:4\n",
      "Pred:4 real:2\n",
      "Pred:5 real:5\n",
      "Pred:3 real:14\n",
      "Pred:3 real:13\n",
      "Pred:7 real:3\n",
      "Pred:6 real:9\n",
      "Pred:3 real:10\n",
      "Pred:4 real:0\n",
      "Pred:3 real:13\n",
      "Pred:2 real:7\n",
      "Pred:7 real:3\n",
      "Pred:3 real:12\n",
      "Pred:4 real:0\n",
      "Pred:3 real:12\n",
      "Pred:7 real:3\n",
      "Pred:2 real:6\n",
      "Pred:2 real:8\n",
      "Pred:5 real:5\n",
      "Pred:2 real:7\n",
      "Pred:3 real:14\n",
      "Pred:6 real:9\n",
      "Pred:5 real:4\n",
      "Pred:7 real:4\n",
      "Pred:3 real:12\n",
      "Pred:2 real:8\n",
      "Pred:5 real:5\n",
      "Pred:5 real:5\n",
      "Pred:4 real:1\n",
      "Pred:3 real:14\n",
      "Pred:3 real:13\n",
      "Pred:1 real:1\n",
      "Pred:3 real:14\n",
      "Pred:7 real:2\n",
      "Pred:4 real:0\n",
      "Pred:1 real:5\n",
      "Pred:3 real:14\n",
      "Pred:2 real:7\n",
      "Pred:0 real:12\n",
      "Pred:5 real:5\n",
      "Pred:4 real:1\n",
      "Pred:7 real:5\n",
      "Pred:6 real:10\n",
      "Pred:3 real:14\n",
      "Pred:3 real:14\n",
      "Pred:2 real:7\n",
      "Pred:5 real:5\n",
      "Pred:2 real:7\n",
      "Pred:2 real:8\n",
      "Pred:5 real:7\n",
      "Pred:1 real:1\n",
      "Pred:2 real:8\n",
      "Pred:2 real:6\n",
      "Pred:3 real:11\n",
      "Pred:1 real:1\n",
      "Pred:2 real:8\n",
      "Pred:7 real:8\n",
      "Pred:1 real:1\n",
      "Pred:6 real:9\n",
      "Pred:0 real:12\n",
      "Pred:2 real:11\n",
      "Pred:7 real:6\n",
      "Pred:5 real:8\n",
      "Pred:6 real:9\n",
      "Pred:5 real:4\n",
      "Pred:4 real:0\n",
      "Pred:0 real:11\n",
      "Pred:3 real:11\n",
      "Pred:6 real:8\n",
      "Pred:2 real:6\n",
      "Pred:7 real:4\n",
      "Pred:5 real:4\n",
      "Pred:2 real:8\n",
      "Pred:2 real:7\n",
      "Pred:3 real:14\n",
      "Pred:5 real:5\n",
      "Pred:7 real:3\n",
      "Pred:4 real:11\n",
      "Pred:2 real:6\n",
      "Pred:5 real:4\n",
      "Pred:2 real:10\n",
      "Pred:2 real:8\n",
      "Pred:7 real:3\n",
      "Pred:7 real:2\n",
      "Pred:4 real:0\n",
      "Pred:3 real:14\n",
      "Pred:1 real:2\n",
      "Pred:3 real:14\n",
      "Pred:4 real:0\n",
      "Pred:7 real:2\n",
      "Pred:6 real:10\n",
      "Pred:3 real:12\n",
      "Pred:4 real:0\n",
      "Pred:4 real:0\n",
      "Pred:7 real:3\n",
      "Pred:4 real:0\n",
      "Pred:1 real:4\n",
      "Pred:6 real:10\n"
     ]
    }
   ],
   "source": [
    "y_pred = clf.predict(X_test)\n",
    "print(y_pred.shape)\n",
    "for i in range(len(y_pred)):\n",
    "    print('Pred:{} real:{}'.format(y_pred[i],y_test[i]))"
   ]
  },
  {
   "cell_type": "code",
   "execution_count": null,
   "metadata": {},
   "outputs": [],
   "source": []
  },
  {
   "cell_type": "code",
   "execution_count": null,
   "metadata": {},
   "outputs": [],
   "source": []
  }
 ],
 "metadata": {
  "kernelspec": {
   "display_name": "Python 3",
   "language": "python",
   "name": "python3"
  },
  "language_info": {
   "codemirror_mode": {
    "name": "ipython",
    "version": 3
   },
   "file_extension": ".py",
   "mimetype": "text/x-python",
   "name": "python",
   "nbconvert_exporter": "python",
   "pygments_lexer": "ipython3",
   "version": "3.6.5"
  }
 },
 "nbformat": 4,
 "nbformat_minor": 2
}
