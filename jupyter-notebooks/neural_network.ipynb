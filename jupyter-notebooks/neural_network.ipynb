{
 "cells": [
  {
   "cell_type": "markdown",
   "metadata": {},
   "source": [
    "# Import data"
   ]
  },
  {
   "cell_type": "code",
   "execution_count": 1,
   "metadata": {},
   "outputs": [],
   "source": [
    "import numpy as np\n",
    "import pandas as pd\n",
    "from load_data import LoadData\n",
    "from sklearn.utils import shuffle"
   ]
  },
  {
   "cell_type": "code",
   "execution_count": 2,
   "metadata": {},
   "outputs": [],
   "source": [
    "data = LoadData(37)"
   ]
  },
  {
   "cell_type": "code",
   "execution_count": 3,
   "metadata": {},
   "outputs": [
    {
     "name": "stdout",
     "output_type": "stream",
     "text": [
      "no image\n",
      "no image\n",
      "no image\n",
      "no image\n",
      "no image\n",
      "no image\n",
      "(549, 4)\n"
     ]
    },
    {
     "data": {
      "text/html": [
       "<div>\n",
       "<style scoped>\n",
       "    .dataframe tbody tr th:only-of-type {\n",
       "        vertical-align: middle;\n",
       "    }\n",
       "\n",
       "    .dataframe tbody tr th {\n",
       "        vertical-align: top;\n",
       "    }\n",
       "\n",
       "    .dataframe thead th {\n",
       "        text-align: right;\n",
       "    }\n",
       "</style>\n",
       "<table border=\"1\" class=\"dataframe\">\n",
       "  <thead>\n",
       "    <tr style=\"text-align: right;\">\n",
       "      <th></th>\n",
       "      <th>blue</th>\n",
       "      <th>green</th>\n",
       "      <th>red</th>\n",
       "      <th>label</th>\n",
       "    </tr>\n",
       "  </thead>\n",
       "  <tbody>\n",
       "    <tr>\n",
       "      <th>177</th>\n",
       "      <td>159</td>\n",
       "      <td>65</td>\n",
       "      <td>99</td>\n",
       "      <td>13</td>\n",
       "    </tr>\n",
       "    <tr>\n",
       "      <th>255</th>\n",
       "      <td>13</td>\n",
       "      <td>103</td>\n",
       "      <td>244</td>\n",
       "      <td>1</td>\n",
       "    </tr>\n",
       "    <tr>\n",
       "      <th>85</th>\n",
       "      <td>207</td>\n",
       "      <td>143</td>\n",
       "      <td>65</td>\n",
       "      <td>10</td>\n",
       "    </tr>\n",
       "    <tr>\n",
       "      <th>290</th>\n",
       "      <td>63</td>\n",
       "      <td>169</td>\n",
       "      <td>46</td>\n",
       "      <td>7</td>\n",
       "    </tr>\n",
       "    <tr>\n",
       "      <th>486</th>\n",
       "      <td>204</td>\n",
       "      <td>139</td>\n",
       "      <td>65</td>\n",
       "      <td>11</td>\n",
       "    </tr>\n",
       "  </tbody>\n",
       "</table>\n",
       "</div>"
      ],
      "text/plain": [
       "     blue  green  red  label\n",
       "177   159     65   99     13\n",
       "255    13    103  244      1\n",
       "85    207    143   65     10\n",
       "290    63    169   46      7\n",
       "486   204    139   65     11"
      ]
     },
     "execution_count": 3,
     "metadata": {},
     "output_type": "execute_result"
    }
   ],
   "source": [
    "df = data.load_data()\n",
    "df = shuffle(df)\n",
    "print(df.shape)\n",
    "df.head()"
   ]
  },
  {
   "cell_type": "markdown",
   "metadata": {},
   "source": [
    "## Prepare data "
   ]
  },
  {
   "cell_type": "code",
   "execution_count": 4,
   "metadata": {},
   "outputs": [
    {
     "name": "stderr",
     "output_type": "stream",
     "text": [
      "c:\\users\\asus\\appdata\\local\\programs\\python\\python3.6.5\\lib\\site-packages\\sklearn\\cross_validation.py:41: DeprecationWarning: This module was deprecated in version 0.18 in favor of the model_selection module into which all the refactored classes and functions are moved. Also note that the interface of the new CV iterators are different from that of this module. This module will be removed in 0.20.\n",
      "  \"This module will be removed in 0.20.\", DeprecationWarning)\n",
      "c:\\users\\asus\\appdata\\local\\programs\\python\\python3.6.5\\lib\\site-packages\\h5py\\__init__.py:36: FutureWarning: Conversion of the second argument of issubdtype from `float` to `np.floating` is deprecated. In future, it will be treated as `np.float64 == np.dtype(float).type`.\n",
      "  from ._conv import register_converters as _register_converters\n",
      "Using TensorFlow backend.\n",
      "c:\\users\\asus\\appdata\\local\\programs\\python\\python3.6.5\\lib\\site-packages\\sklearn\\utils\\validation.py:475: DataConversionWarning: Data with input dtype int32 was converted to float64 by StandardScaler.\n",
      "  warnings.warn(msg, DataConversionWarning)\n"
     ]
    },
    {
     "data": {
      "text/plain": [
       "array([[ 0.8662298 , -1.5241501 , -0.7050624 ],\n",
       "       [-0.70137423, -0.36973518,  1.3576837 ],\n",
       "       [ 0.87962806, -1.7852677 , -1.3007218 ],\n",
       "       ...,\n",
       "       [ 0.4106867 ,  1.6642339 ,  1.0157311 ],\n",
       "       [-0.66117924, -1.1943172 ,  1.0708847 ],\n",
       "       [ 1.5093493 ,  0.02881281, -1.3117524 ]], dtype=float32)"
      ]
     },
     "execution_count": 4,
     "metadata": {},
     "output_type": "execute_result"
    }
   ],
   "source": [
    "from sklearn.cross_validation import train_test_split\n",
    "from sklearn.preprocessing import scale\n",
    "from sklearn.preprocessing import StandardScaler\n",
    "from keras.utils import np_utils\n",
    "X = np.array(df.drop(['label'],axis=1))\n",
    "# X = scale(X)\n",
    "scaler = StandardScaler()\n",
    "X = scaler.fit_transform(X)\n",
    "y = np.array(df['label'])\n",
    "X_train, X_test, y_train, y_test = train_test_split(X, y)\n",
    "X_train = X_train.astype('float32')\n",
    "X_test = X_test.astype('float32')\n",
    "y_val = np_utils.to_categorical(y_test)\n",
    "dummy_y = np_utils.to_categorical(y_train)\n",
    "# X_train.shape, X_test.shape, y_train.shape, y_test.shape\n",
    "X_train"
   ]
  },
  {
   "cell_type": "markdown",
   "metadata": {},
   "source": [
    "# Create model"
   ]
  },
  {
   "cell_type": "code",
   "execution_count": 5,
   "metadata": {},
   "outputs": [],
   "source": [
    "from keras.models import Sequential\n",
    "from keras.layers import Dense, Dropout, Conv1D,Conv2D, BatchNormalization,MaxPool1D,Flatten,MaxPool2D"
   ]
  },
  {
   "cell_type": "markdown",
   "metadata": {},
   "source": [
    "## First model"
   ]
  },
  {
   "cell_type": "code",
   "execution_count": 31,
   "metadata": {},
   "outputs": [],
   "source": [
    "model = Sequential()\n",
    "model.add(Dense(64,activation='relu',input_shape=(3,)))\n",
    "model.add(Dropout(0.25))\n",
    "model.add(Dense(64, activation='relu'))\n",
    "model.add(Dense(32,activation='relu'))\n",
    "model.add(Dense(15, activation='softmax'))"
   ]
  },
  {
   "cell_type": "markdown",
   "metadata": {},
   "source": [
    "## Second model "
   ]
  },
  {
   "cell_type": "code",
   "execution_count": 6,
   "metadata": {},
   "outputs": [],
   "source": [
    "model = Sequential()\n",
    "model.add(Dense(128,activation='relu',input_shape=(3,)))\n",
    "model.add(Dropout(0.25))\n",
    "model.add(Dense(512,activation='relu'))\n",
    "model.add(Dropout(0.4))\n",
    "model.add(Dense(512,activation='relu'))\n",
    "model.add(Dropout(0.5))\n",
    "model.add(Dense(128,activation='relu'))\n",
    "model.add(Dense(15,activation='softmax'))"
   ]
  },
  {
   "cell_type": "markdown",
   "metadata": {},
   "source": [
    "\n",
    "## Conv2D - not finished"
   ]
  },
  {
   "cell_type": "code",
   "execution_count": 134,
   "metadata": {},
   "outputs": [
    {
     "data": {
      "text/plain": [
       "((89, 3, 3, 1), (30, 3, 3, 1), (267, 15), (90, 15))"
      ]
     },
     "execution_count": 134,
     "metadata": {},
     "output_type": "execute_result"
    }
   ],
   "source": [
    "from keras import backend as K\n",
    "K.set_image_dim_ordering('th')\n",
    "\n",
    "model = Sequential()\n",
    "\n",
    "model.add(Conv2D(filters=15,kernel_size=(1,1),activation='relu',input_shape=(3,3,1)))\n",
    "model.add(BatchNormalization())\n",
    "\n",
    "\n",
    "# model.add(Conv2D(filters=32,kernel_size=(2,2),activation='relu'))\n",
    "# model.add(BatchNormalization())\n",
    "# model.add(Conv2D(filters=32,kernel_size=(2,2),activation='relu'))\n",
    "# model.add(BatchNormalization())\n",
    "# model.add(MaxPool2D(strides=(2,2)))\n",
    "# model.add(Dropout(0.3))\n",
    "\n",
    "model.add(Flatten())\n",
    "model.add(Dense(512,activation='relu'))\n",
    "model.add(Dropout(0.3))\n",
    "model.add(Dense(256,activation='relu'))\n",
    "model.add(Dropout(0.3))\n",
    "model.add(Dense(15,activation='softmax'))\n",
    "X_train = X_train.reshape(-1, 3, 3, 1)\n",
    "X_test = X_test.reshape(-1, 3, 3, 1)\n",
    "# do poprawy reshape dummy i y_val macierzy \n",
    "X_train.shape, X_test.shape, dummy_y.shape, y_val.shape"
   ]
  },
  {
   "cell_type": "code",
   "execution_count": 7,
   "metadata": {},
   "outputs": [],
   "source": [
    "# Testing different optimizers\n",
    "from keras.optimizers import Adagrad, Adamax, Nadam, SGD, RMSprop, Adam\n",
    "sgd = SGD(lr=0.01) # accuracy - 70,67%\n",
    "adagrad = Adagrad() # accuracy - 75%\n",
    "adamax = Adamax() # 74%"
   ]
  },
  {
   "cell_type": "code",
   "execution_count": 8,
   "metadata": {},
   "outputs": [],
   "source": [
    "model.compile(loss='categorical_crossentropy',optimizer=Adam(),metrics=['accuracy'])"
   ]
  },
  {
   "cell_type": "markdown",
   "metadata": {},
   "source": [
    "## Fit model"
   ]
  },
  {
   "cell_type": "code",
   "execution_count": 10,
   "metadata": {},
   "outputs": [
    {
     "name": "stdout",
     "output_type": "stream",
     "text": [
      "Train on 411 samples, validate on 138 samples\n",
      "Epoch 1/100\n",
      "411/411 [==============================] - 0s 662us/step - loss: 1.4918 - acc: 0.4112 - val_loss: 1.3810 - val_acc: 0.4638\n",
      "Epoch 2/100\n",
      "411/411 [==============================] - 0s 465us/step - loss: 1.3306 - acc: 0.4720 - val_loss: 1.3504 - val_acc: 0.6014\n",
      "Epoch 3/100\n",
      "411/411 [==============================] - 0s 483us/step - loss: 1.2766 - acc: 0.5353 - val_loss: 1.3806 - val_acc: 0.5580\n",
      "Epoch 4/100\n",
      "411/411 [==============================] - 0s 522us/step - loss: 1.2579 - acc: 0.5304 - val_loss: 1.3837 - val_acc: 0.5942\n",
      "Epoch 5/100\n",
      "411/411 [==============================] - 0s 514us/step - loss: 1.2085 - acc: 0.5766 - val_loss: 1.2925 - val_acc: 0.6449\n",
      "Epoch 6/100\n",
      "411/411 [==============================] - 0s 670us/step - loss: 1.1561 - acc: 0.5937 - val_loss: 1.3882 - val_acc: 0.5507\n",
      "Epoch 7/100\n",
      "411/411 [==============================] - 0s 450us/step - loss: 1.1982 - acc: 0.5693 - val_loss: 1.2368 - val_acc: 0.6594\n",
      "Epoch 8/100\n",
      "411/411 [==============================] - 0s 444us/step - loss: 1.0857 - acc: 0.6083 - val_loss: 1.3333 - val_acc: 0.6449\n",
      "Epoch 9/100\n",
      "411/411 [==============================] - 0s 495us/step - loss: 1.0461 - acc: 0.6302 - val_loss: 1.4388 - val_acc: 0.6087\n",
      "Epoch 10/100\n",
      "411/411 [==============================] - 0s 500us/step - loss: 1.1288 - acc: 0.6131 - val_loss: 1.2067 - val_acc: 0.6812\n",
      "Epoch 11/100\n",
      "411/411 [==============================] - 0s 507us/step - loss: 1.0664 - acc: 0.5985 - val_loss: 1.2240 - val_acc: 0.6522\n",
      "Epoch 12/100\n",
      "411/411 [==============================] - 0s 578us/step - loss: 1.0352 - acc: 0.6107 - val_loss: 1.3389 - val_acc: 0.6232\n",
      "Epoch 13/100\n",
      "411/411 [==============================] - 0s 456us/step - loss: 1.0491 - acc: 0.6569 - val_loss: 1.2624 - val_acc: 0.6014\n",
      "Epoch 14/100\n",
      "411/411 [==============================] - 0s 538us/step - loss: 1.0464 - acc: 0.6253 - val_loss: 1.2538 - val_acc: 0.6522\n",
      "Epoch 15/100\n",
      "411/411 [==============================] - 0s 476us/step - loss: 1.0689 - acc: 0.6034 - val_loss: 1.3057 - val_acc: 0.6812\n",
      "Epoch 16/100\n",
      "411/411 [==============================] - 0s 491us/step - loss: 1.0146 - acc: 0.6667 - val_loss: 1.2553 - val_acc: 0.6667\n",
      "Epoch 17/100\n",
      "411/411 [==============================] - 0s 626us/step - loss: 1.0017 - acc: 0.6496 - val_loss: 1.2589 - val_acc: 0.6304\n",
      "Epoch 18/100\n",
      "411/411 [==============================] - 0s 495us/step - loss: 1.0159 - acc: 0.6691 - val_loss: 1.2105 - val_acc: 0.6739\n",
      "Epoch 19/100\n",
      "411/411 [==============================] - 0s 516us/step - loss: 0.9508 - acc: 0.7007 - val_loss: 1.2351 - val_acc: 0.6667\n",
      "Epoch 20/100\n",
      "411/411 [==============================] - 0s 480us/step - loss: 0.9504 - acc: 0.7007 - val_loss: 1.2581 - val_acc: 0.6667\n",
      "Epoch 21/100\n",
      "411/411 [==============================] - 0s 449us/step - loss: 0.9315 - acc: 0.7056 - val_loss: 1.2141 - val_acc: 0.6884\n",
      "Epoch 22/100\n",
      "411/411 [==============================] - 0s 495us/step - loss: 0.9437 - acc: 0.6740 - val_loss: 1.1657 - val_acc: 0.6812\n",
      "Epoch 23/100\n",
      "411/411 [==============================] - 0s 591us/step - loss: 0.9356 - acc: 0.7056 - val_loss: 1.1441 - val_acc: 0.6812\n",
      "Epoch 24/100\n",
      "411/411 [==============================] - 0s 502us/step - loss: 0.9245 - acc: 0.7080 - val_loss: 1.2050 - val_acc: 0.6594\n",
      "Epoch 25/100\n",
      "411/411 [==============================] - 0s 439us/step - loss: 0.9514 - acc: 0.6910 - val_loss: 1.1827 - val_acc: 0.6667\n",
      "Epoch 26/100\n",
      "411/411 [==============================] - 0s 493us/step - loss: 0.9761 - acc: 0.6740 - val_loss: 1.2095 - val_acc: 0.6594\n",
      "Epoch 27/100\n",
      "411/411 [==============================] - 0s 555us/step - loss: 0.9100 - acc: 0.6959 - val_loss: 1.2909 - val_acc: 0.6377\n",
      "Epoch 28/100\n",
      "411/411 [==============================] - 0s 595us/step - loss: 0.8633 - acc: 0.7178 - val_loss: 1.2627 - val_acc: 0.6812\n",
      "Epoch 29/100\n",
      "411/411 [==============================] - 0s 764us/step - loss: 0.9133 - acc: 0.7056 - val_loss: 1.2829 - val_acc: 0.6377\n",
      "Epoch 30/100\n",
      "411/411 [==============================] - 0s 535us/step - loss: 0.8854 - acc: 0.7153 - val_loss: 1.2415 - val_acc: 0.6884\n",
      "Epoch 31/100\n",
      "411/411 [==============================] - 0s 624us/step - loss: 0.9333 - acc: 0.7007 - val_loss: 1.2238 - val_acc: 0.6667\n",
      "Epoch 32/100\n",
      "411/411 [==============================] - 0s 1ms/step - loss: 0.8757 - acc: 0.7275 - val_loss: 1.3137 - val_acc: 0.6667\n",
      "Epoch 33/100\n",
      "411/411 [==============================] - 0s 550us/step - loss: 0.9274 - acc: 0.6837 - val_loss: 1.2691 - val_acc: 0.6739\n",
      "Epoch 34/100\n",
      "411/411 [==============================] - 0s 703us/step - loss: 0.8577 - acc: 0.7324 - val_loss: 1.2489 - val_acc: 0.6449\n",
      "Epoch 35/100\n",
      "411/411 [==============================] - 0s 488us/step - loss: 0.9136 - acc: 0.6983 - val_loss: 1.2367 - val_acc: 0.6812\n",
      "Epoch 36/100\n",
      "411/411 [==============================] - 0s 471us/step - loss: 0.8561 - acc: 0.7421 - val_loss: 1.1927 - val_acc: 0.6739\n",
      "Epoch 37/100\n",
      "411/411 [==============================] - 0s 713us/step - loss: 0.8429 - acc: 0.7348 - val_loss: 1.1806 - val_acc: 0.6739\n",
      "Epoch 38/100\n",
      "411/411 [==============================] - 0s 575us/step - loss: 0.8419 - acc: 0.7178 - val_loss: 1.2184 - val_acc: 0.6812\n",
      "Epoch 39/100\n",
      "411/411 [==============================] - 0s 582us/step - loss: 0.8483 - acc: 0.7178 - val_loss: 1.2269 - val_acc: 0.7029\n",
      "Epoch 40/100\n",
      "411/411 [==============================] - 0s 587us/step - loss: 0.8880 - acc: 0.7032 - val_loss: 1.1774 - val_acc: 0.6739\n",
      "Epoch 41/100\n",
      "411/411 [==============================] - 0s 522us/step - loss: 0.8200 - acc: 0.7153 - val_loss: 1.2204 - val_acc: 0.6884\n",
      "Epoch 42/100\n",
      "411/411 [==============================] - 0s 541us/step - loss: 0.8169 - acc: 0.7470 - val_loss: 1.2654 - val_acc: 0.6522\n",
      "Epoch 43/100\n",
      "411/411 [==============================] - 0s 581us/step - loss: 0.8284 - acc: 0.7275 - val_loss: 1.1957 - val_acc: 0.6812\n",
      "Epoch 44/100\n",
      "411/411 [==============================] - 0s 551us/step - loss: 0.8031 - acc: 0.7397 - val_loss: 1.1991 - val_acc: 0.6739\n",
      "Epoch 45/100\n",
      "411/411 [==============================] - 0s 439us/step - loss: 0.8225 - acc: 0.7397 - val_loss: 1.1964 - val_acc: 0.6884\n",
      "Epoch 46/100\n",
      "411/411 [==============================] - 0s 548us/step - loss: 0.8072 - acc: 0.7664 - val_loss: 1.1884 - val_acc: 0.6739\n",
      "Epoch 47/100\n",
      "411/411 [==============================] - 0s 531us/step - loss: 0.8323 - acc: 0.7494 - val_loss: 1.3018 - val_acc: 0.6739\n",
      "Epoch 48/100\n",
      "411/411 [==============================] - 0s 420us/step - loss: 0.8151 - acc: 0.7372 - val_loss: 1.2069 - val_acc: 0.6812\n",
      "Epoch 49/100\n",
      "411/411 [==============================] - 0s 427us/step - loss: 0.8351 - acc: 0.7299 - val_loss: 1.2593 - val_acc: 0.6739\n",
      "Epoch 50/100\n",
      "411/411 [==============================] - 0s 417us/step - loss: 0.7765 - acc: 0.7518 - val_loss: 1.2443 - val_acc: 0.6667\n",
      "Epoch 51/100\n",
      "411/411 [==============================] - 0s 479us/step - loss: 0.7721 - acc: 0.7470 - val_loss: 1.2212 - val_acc: 0.6739\n",
      "Epoch 52/100\n",
      "411/411 [==============================] - 0s 417us/step - loss: 0.8143 - acc: 0.7445 - val_loss: 1.2222 - val_acc: 0.6522\n",
      "Epoch 53/100\n",
      "411/411 [==============================] - 0s 541us/step - loss: 0.7959 - acc: 0.7421 - val_loss: 1.3213 - val_acc: 0.6739\n",
      "Epoch 54/100\n",
      "411/411 [==============================] - 0s 483us/step - loss: 0.7889 - acc: 0.7470 - val_loss: 1.2670 - val_acc: 0.6739\n",
      "Epoch 55/100\n",
      "411/411 [==============================] - 0s 422us/step - loss: 0.7926 - acc: 0.7397 - val_loss: 1.2124 - val_acc: 0.6667\n",
      "Epoch 56/100\n",
      "411/411 [==============================] - 0s 415us/step - loss: 0.8163 - acc: 0.7445 - val_loss: 1.2894 - val_acc: 0.6812\n",
      "Epoch 57/100\n",
      "411/411 [==============================] - 0s 451us/step - loss: 0.7858 - acc: 0.7421 - val_loss: 1.2886 - val_acc: 0.6667\n",
      "Epoch 58/100\n",
      "411/411 [==============================] - 0s 427us/step - loss: 0.7688 - acc: 0.7567 - val_loss: 1.3275 - val_acc: 0.6739\n",
      "Epoch 59/100\n",
      "411/411 [==============================] - 0s 529us/step - loss: 0.7380 - acc: 0.7591 - val_loss: 1.2494 - val_acc: 0.6667\n",
      "Epoch 60/100\n",
      "411/411 [==============================] - 0s 438us/step - loss: 0.7549 - acc: 0.7616 - val_loss: 1.2367 - val_acc: 0.6594\n"
     ]
    },
    {
     "name": "stdout",
     "output_type": "stream",
     "text": [
      "Epoch 61/100\n",
      "411/411 [==============================] - 0s 445us/step - loss: 0.7572 - acc: 0.7664 - val_loss: 1.2184 - val_acc: 0.6812\n",
      "Epoch 62/100\n",
      "411/411 [==============================] - 0s 442us/step - loss: 0.7355 - acc: 0.7640 - val_loss: 1.2775 - val_acc: 0.6594\n",
      "Epoch 63/100\n",
      "411/411 [==============================] - 0s 427us/step - loss: 0.7344 - acc: 0.7786 - val_loss: 1.2637 - val_acc: 0.6667\n",
      "Epoch 64/100\n",
      "411/411 [==============================] - 0s 434us/step - loss: 0.7697 - acc: 0.7616 - val_loss: 1.2809 - val_acc: 0.6667\n",
      "Epoch 65/100\n",
      "411/411 [==============================] - 0s 490us/step - loss: 0.7606 - acc: 0.7543 - val_loss: 1.3027 - val_acc: 0.6884\n",
      "Epoch 66/100\n",
      "411/411 [==============================] - 0s 417us/step - loss: 0.7711 - acc: 0.7445 - val_loss: 1.2965 - val_acc: 0.6594\n",
      "Epoch 67/100\n",
      "411/411 [==============================] - 0s 424us/step - loss: 0.7221 - acc: 0.7591 - val_loss: 1.2976 - val_acc: 0.6812\n",
      "Epoch 68/100\n",
      "411/411 [==============================] - 0s 437us/step - loss: 0.7434 - acc: 0.7445 - val_loss: 1.3185 - val_acc: 0.6812\n",
      "Epoch 69/100\n",
      "411/411 [==============================] - 0s 417us/step - loss: 0.7175 - acc: 0.7689 - val_loss: 1.2547 - val_acc: 0.6739\n",
      "Epoch 70/100\n",
      "411/411 [==============================] - 0s 416us/step - loss: 0.6979 - acc: 0.7737 - val_loss: 1.2496 - val_acc: 0.6739\n",
      "Epoch 71/100\n",
      "411/411 [==============================] - 0s 430us/step - loss: 0.7281 - acc: 0.7835 - val_loss: 1.1958 - val_acc: 0.6884\n",
      "Epoch 72/100\n",
      "411/411 [==============================] - 0s 521us/step - loss: 0.6815 - acc: 0.7640 - val_loss: 1.2892 - val_acc: 0.6739\n",
      "Epoch 73/100\n",
      "411/411 [==============================] - 0s 408us/step - loss: 0.7168 - acc: 0.7616 - val_loss: 1.3067 - val_acc: 0.6739\n",
      "Epoch 74/100\n",
      "411/411 [==============================] - 0s 456us/step - loss: 0.7330 - acc: 0.7664 - val_loss: 1.3883 - val_acc: 0.6667\n",
      "Epoch 75/100\n",
      "411/411 [==============================] - 0s 408us/step - loss: 0.7444 - acc: 0.7591 - val_loss: 1.2221 - val_acc: 0.6812\n",
      "Epoch 76/100\n",
      "411/411 [==============================] - 0s 409us/step - loss: 0.7214 - acc: 0.7640 - val_loss: 1.3062 - val_acc: 0.6739\n",
      "Epoch 77/100\n",
      "411/411 [==============================] - 0s 415us/step - loss: 0.7132 - acc: 0.7591 - val_loss: 1.3421 - val_acc: 0.6594\n",
      "Epoch 78/100\n",
      "411/411 [==============================] - 0s 553us/step - loss: 0.6605 - acc: 0.7883 - val_loss: 1.2322 - val_acc: 0.6739\n",
      "Epoch 79/100\n",
      "411/411 [==============================] - 0s 422us/step - loss: 0.6897 - acc: 0.7762 - val_loss: 1.4698 - val_acc: 0.6377\n",
      "Epoch 80/100\n",
      "411/411 [==============================] - 0s 415us/step - loss: 0.7228 - acc: 0.7762 - val_loss: 1.3190 - val_acc: 0.6667\n",
      "Epoch 81/100\n",
      "411/411 [==============================] - 0s 403us/step - loss: 0.6479 - acc: 0.7908 - val_loss: 1.2831 - val_acc: 0.6667\n",
      "Epoch 82/100\n",
      "411/411 [==============================] - 0s 446us/step - loss: 0.6906 - acc: 0.7664 - val_loss: 1.3997 - val_acc: 0.6667\n",
      "Epoch 83/100\n",
      "411/411 [==============================] - 0s 440us/step - loss: 0.6981 - acc: 0.7616 - val_loss: 1.3790 - val_acc: 0.6739\n",
      "Epoch 84/100\n",
      "411/411 [==============================] - 0s 536us/step - loss: 0.6466 - acc: 0.7689 - val_loss: 1.3287 - val_acc: 0.6594\n",
      "Epoch 85/100\n",
      "411/411 [==============================] - 0s 451us/step - loss: 0.6835 - acc: 0.7786 - val_loss: 1.4361 - val_acc: 0.6739\n",
      "Epoch 86/100\n",
      "411/411 [==============================] - 0s 406us/step - loss: 0.6634 - acc: 0.7835 - val_loss: 1.3582 - val_acc: 0.6594\n",
      "Epoch 87/100\n",
      "411/411 [==============================] - 0s 405us/step - loss: 0.6346 - acc: 0.7932 - val_loss: 1.4505 - val_acc: 0.6667\n",
      "Epoch 88/100\n",
      "411/411 [==============================] - 0s 398us/step - loss: 0.6527 - acc: 0.7737 - val_loss: 1.4086 - val_acc: 0.6739\n",
      "Epoch 89/100\n",
      "411/411 [==============================] - 0s 417us/step - loss: 0.6345 - acc: 0.7616 - val_loss: 1.4172 - val_acc: 0.6594\n",
      "Epoch 90/100\n",
      "411/411 [==============================] - 0s 545us/step - loss: 0.6499 - acc: 0.7883 - val_loss: 1.3580 - val_acc: 0.6812\n",
      "Epoch 91/100\n",
      "411/411 [==============================] - 0s 444us/step - loss: 0.6638 - acc: 0.7786 - val_loss: 1.3884 - val_acc: 0.6739\n",
      "Epoch 92/100\n",
      "411/411 [==============================] - 0s 411us/step - loss: 0.6508 - acc: 0.7859 - val_loss: 1.3562 - val_acc: 0.6739\n",
      "Epoch 93/100\n",
      "411/411 [==============================] - 0s 405us/step - loss: 0.6529 - acc: 0.7859 - val_loss: 1.3961 - val_acc: 0.6739\n",
      "Epoch 94/100\n",
      "411/411 [==============================] - 0s 420us/step - loss: 0.6363 - acc: 0.7859 - val_loss: 1.3902 - val_acc: 0.6739\n",
      "Epoch 95/100\n",
      "411/411 [==============================] - 0s 413us/step - loss: 0.6954 - acc: 0.7786 - val_loss: 1.4368 - val_acc: 0.6667\n",
      "Epoch 96/100\n",
      "411/411 [==============================] - 0s 468us/step - loss: 0.6401 - acc: 0.8078 - val_loss: 1.4264 - val_acc: 0.6739\n",
      "Epoch 97/100\n",
      "411/411 [==============================] - 0s 529us/step - loss: 0.6179 - acc: 0.8078 - val_loss: 1.4097 - val_acc: 0.6739\n",
      "Epoch 98/100\n",
      "411/411 [==============================] - 0s 410us/step - loss: 0.6318 - acc: 0.7810 - val_loss: 1.3729 - val_acc: 0.6739\n",
      "Epoch 99/100\n",
      "411/411 [==============================] - 0s 405us/step - loss: 0.6247 - acc: 0.7956 - val_loss: 1.4950 - val_acc: 0.6739\n",
      "Epoch 100/100\n",
      "411/411 [==============================] - 0s 416us/step - loss: 0.6679 - acc: 0.7859 - val_loss: 1.4018 - val_acc: 0.6667\n"
     ]
    }
   ],
   "source": [
    "# I used 100 epoches\n",
    "history = model.fit(X_train, dummy_y, epochs=100, verbose=1, batch_size=16, validation_data=(X_test,y_val))"
   ]
  },
  {
   "cell_type": "code",
   "execution_count": 12,
   "metadata": {},
   "outputs": [
    {
     "name": "stdout",
     "output_type": "stream",
     "text": [
      "True : 9 Pred : 9\n",
      "True : 13 Pred : 13\n",
      "True : 9 Pred : 9\n",
      "True : 5 Pred : 5\n",
      "True : 3 Pred : 2\n",
      "True : 1 Pred : 0\n",
      "True : 1 Pred : 1\n",
      "True : 7 Pred : 7\n",
      "True : 10 Pred : 10\n",
      "True : 11 Pred : 0\n",
      "True : 4 Pred : 1\n",
      "True : 12 Pred : 10\n",
      "True : 7 Pred : 7\n",
      "True : 3 Pred : 3\n",
      "True : 5 Pred : 5\n",
      "True : 6 Pred : 6\n",
      "True : 2 Pred : 2\n",
      "True : 1 Pred : 1\n",
      "True : 10 Pred : 8\n",
      "True : 8 Pred : 8\n",
      "True : 4 Pred : 1\n",
      "True : 11 Pred : 12\n",
      "True : 11 Pred : 11\n",
      "True : 0 Pred : 1\n",
      "True : 14 Pred : 14\n",
      "True : 14 Pred : 14\n",
      "True : 10 Pred : 10\n",
      "True : 10 Pred : 10\n",
      "True : 8 Pred : 6\n",
      "True : 0 Pred : 1\n",
      "True : 11 Pred : 10\n",
      "True : 5 Pred : 5\n",
      "True : 10 Pred : 10\n",
      "True : 4 Pred : 3\n",
      "True : 14 Pred : 14\n",
      "True : 0 Pred : 1\n",
      "True : 13 Pred : 14\n",
      "True : 2 Pred : 0\n",
      "True : 11 Pred : 12\n",
      "True : 8 Pred : 8\n",
      "True : 3 Pred : 3\n",
      "True : 13 Pred : 13\n",
      "True : 6 Pred : 6\n",
      "True : 3 Pred : 1\n",
      "True : 1 Pred : 1\n",
      "True : 4 Pred : 4\n",
      "True : 9 Pred : 9\n",
      "True : 5 Pred : 5\n",
      "True : 9 Pred : 9\n",
      "True : 3 Pred : 3\n",
      "True : 13 Pred : 13\n",
      "True : 5 Pred : 5\n",
      "True : 12 Pred : 13\n",
      "True : 5 Pred : 5\n",
      "True : 2 Pred : 2\n",
      "True : 8 Pred : 4\n",
      "True : 11 Pred : 10\n",
      "True : 6 Pred : 2\n",
      "True : 6 Pred : 6\n",
      "True : 14 Pred : 14\n",
      "True : 14 Pred : 14\n",
      "True : 2 Pred : 1\n",
      "True : 12 Pred : 10\n",
      "True : 2 Pred : 1\n",
      "True : 0 Pred : 0\n",
      "True : 6 Pred : 5\n",
      "True : 3 Pred : 2\n",
      "True : 8 Pred : 8\n",
      "True : 5 Pred : 6\n",
      "True : 7 Pred : 7\n",
      "True : 1 Pred : 1\n",
      "True : 13 Pred : 14\n",
      "True : 8 Pred : 8\n",
      "True : 6 Pred : 6\n",
      "True : 8 Pred : 8\n",
      "True : 0 Pred : 0\n",
      "True : 9 Pred : 7\n",
      "True : 4 Pred : 4\n",
      "True : 11 Pred : 11\n",
      "True : 7 Pred : 7\n",
      "True : 1 Pred : 1\n",
      "True : 12 Pred : 12\n",
      "True : 1 Pred : 1\n",
      "True : 2 Pred : 0\n",
      "True : 2 Pred : 0\n",
      "True : 6 Pred : 6\n",
      "True : 13 Pred : 0\n",
      "True : 12 Pred : 11\n",
      "True : 2 Pred : 2\n",
      "True : 2 Pred : 1\n",
      "True : 5 Pred : 5\n",
      "True : 12 Pred : 14\n",
      "True : 11 Pred : 13\n",
      "True : 5 Pred : 5\n",
      "True : 11 Pred : 11\n",
      "True : 3 Pred : 3\n",
      "True : 11 Pred : 11\n",
      "True : 11 Pred : 11\n",
      "True : 10 Pred : 10\n",
      "True : 1 Pred : 1\n",
      "True : 2 Pred : 2\n",
      "True : 13 Pred : 14\n",
      "True : 4 Pred : 4\n",
      "True : 1 Pred : 1\n",
      "True : 9 Pred : 9\n",
      "True : 12 Pred : 12\n",
      "True : 6 Pred : 6\n",
      "True : 13 Pred : 14\n",
      "True : 3 Pred : 0\n",
      "True : 4 Pred : 3\n",
      "True : 4 Pred : 4\n",
      "True : 3 Pred : 3\n",
      "True : 8 Pred : 8\n",
      "True : 4 Pred : 4\n",
      "True : 10 Pred : 10\n",
      "True : 12 Pred : 12\n",
      "True : 3 Pred : 2\n",
      "True : 10 Pred : 7\n",
      "True : 14 Pred : 14\n",
      "True : 9 Pred : 9\n",
      "True : 4 Pred : 4\n",
      "True : 13 Pred : 14\n",
      "True : 2 Pred : 3\n",
      "True : 12 Pred : 12\n",
      "True : 4 Pred : 4\n",
      "True : 12 Pred : 12\n",
      "True : 12 Pred : 12\n",
      "True : 14 Pred : 14\n",
      "True : 12 Pred : 12\n",
      "True : 0 Pred : 0\n",
      "True : 4 Pred : 2\n",
      "True : 10 Pred : 10\n",
      "True : 14 Pred : 14\n",
      "True : 8 Pred : 8\n",
      "True : 10 Pred : 10\n",
      "True : 8 Pred : 8\n",
      "True : 1 Pred : 1\n",
      "True : 0 Pred : 0\n"
     ]
    }
   ],
   "source": [
    "pred = model.predict(X_test)\n",
    "# for i in range(len(pred)):\n",
    "#     print(np.max(pred[i]))\n",
    "y_pred = pred.argmax(axis=1)\n",
    "for i in range(len(y_pred)):\n",
    "    print('True : {} Pred : {}'.format(y_test[i],y_pred[i]))"
   ]
  },
  {
   "cell_type": "code",
   "execution_count": 77,
   "metadata": {},
   "outputs": [],
   "source": [
    "# model.save('nn-adamax-100epochs-29data-77%.h5')"
   ]
  },
  {
   "cell_type": "code",
   "execution_count": 13,
   "metadata": {},
   "outputs": [
    {
     "data": {
      "text/plain": [
       "0.6666666666666666"
      ]
     },
     "execution_count": 13,
     "metadata": {},
     "output_type": "execute_result"
    }
   ],
   "source": [
    "from sklearn.metrics import accuracy_score\n",
    "accuracy_score(y_test,y_pred)"
   ]
  },
  {
   "cell_type": "markdown",
   "metadata": {},
   "source": [
    "## Plot loss and accuracy score"
   ]
  },
  {
   "cell_type": "code",
   "execution_count": 14,
   "metadata": {},
   "outputs": [
    {
     "data": {
      "image/png": "[encoded data removed]",
      "text/plain": [
       "<Figure size 432x288 with 1 Axes>"
      ]
     },
     "metadata": {},
     "output_type": "display_data"
    }
   ],
   "source": [
    "import matplotlib.pyplot as plt\n",
    "%matplotlib inline\n",
    "# score \n",
    "plt.plot(history.history['acc'])\n",
    "plt.plot(history.history['val_acc'])\n",
    "plt.ylabel('accuracy')\n",
    "plt.xlabel('epoch')\n",
    "plt.legend(['train', 'test'], loc='upper left')\n",
    "plt.show()"
   ]
  },
  {
   "cell_type": "code",
   "execution_count": 15,
   "metadata": {},
   "outputs": [
    {
     "data": {
      "image/png": "[encoded data removed]",
      "text/plain": [
       "<Figure size 432x288 with 1 Axes>"
      ]
     },
     "metadata": {},
     "output_type": "display_data"
    }
   ],
   "source": [
    "# loss \n",
    "plt.plot(history.history['loss'])\n",
    "plt.plot(history.history['val_loss'])\n",
    "plt.title('model loss')\n",
    "plt.ylabel('loss')\n",
    "plt.xlabel('epoch')\n",
    "plt.legend(['train', 'test'], loc='upper left')\n",
    "plt.show()"
   ]
  },
  {
   "cell_type": "code",
   "execution_count": null,
   "metadata": {},
   "outputs": [],
   "source": []
  }
 ],
 "metadata": {
  "kernelspec": {
   "display_name": "Python 3",
   "language": "python",
   "name": "python3"
  },
  "language_info": {
   "codemirror_mode": {
    "name": "ipython",
    "version": 3
   },
   "file_extension": ".py",
   "mimetype": "text/x-python",
   "name": "python",
   "nbconvert_exporter": "python",
   "pygments_lexer": "ipython3",
   "version": "3.6.5"
  }
 },
 "nbformat": 4,
 "nbformat_minor": 2
}
