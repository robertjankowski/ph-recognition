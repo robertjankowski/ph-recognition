{
 "cells": [
  {
   "cell_type": "markdown",
   "metadata": {},
   "source": [
    "# Import data"
   ]
  },
  {
   "cell_type": "code",
   "execution_count": 1,
   "metadata": {},
   "outputs": [],
   "source": [
    "import numpy as np\n",
    "import pandas as pd\n",
    "from load_data import LoadData\n",
    "from sklearn.utils import shuffle"
   ]
  },
  {
   "cell_type": "code",
   "execution_count": 2,
   "metadata": {},
   "outputs": [],
   "source": [
    "data = LoadData(20)"
   ]
  },
  {
   "cell_type": "code",
   "execution_count": 3,
   "metadata": {},
   "outputs": [
    {
     "name": "stdout",
     "output_type": "stream",
     "text": [
      "no image\n",
      "no image\n",
      "(298, 4)\n"
     ]
    },
    {
     "data": {
      "text/html": [
       "<div>\n",
       "<style scoped>\n",
       "    .dataframe tbody tr th:only-of-type {\n",
       "        vertical-align: middle;\n",
       "    }\n",
       "\n",
       "    .dataframe tbody tr th {\n",
       "        vertical-align: top;\n",
       "    }\n",
       "\n",
       "    .dataframe thead th {\n",
       "        text-align: right;\n",
       "    }\n",
       "</style>\n",
       "<table border=\"1\" class=\"dataframe\">\n",
       "  <thead>\n",
       "    <tr style=\"text-align: right;\">\n",
       "      <th></th>\n",
       "      <th>blue</th>\n",
       "      <th>green</th>\n",
       "      <th>red</th>\n",
       "      <th>label</th>\n",
       "    </tr>\n",
       "  </thead>\n",
       "  <tbody>\n",
       "    <tr>\n",
       "      <th>30</th>\n",
       "      <td>37</td>\n",
       "      <td>28</td>\n",
       "      <td>238</td>\n",
       "      <td>0</td>\n",
       "    </tr>\n",
       "    <tr>\n",
       "      <th>220</th>\n",
       "      <td>198</td>\n",
       "      <td>76</td>\n",
       "      <td>0</td>\n",
       "      <td>11</td>\n",
       "    </tr>\n",
       "    <tr>\n",
       "      <th>29</th>\n",
       "      <td>110</td>\n",
       "      <td>23</td>\n",
       "      <td>73</td>\n",
       "      <td>14</td>\n",
       "    </tr>\n",
       "    <tr>\n",
       "      <th>135</th>\n",
       "      <td>13</td>\n",
       "      <td>103</td>\n",
       "      <td>244</td>\n",
       "      <td>1</td>\n",
       "    </tr>\n",
       "    <tr>\n",
       "      <th>82</th>\n",
       "      <td>67</td>\n",
       "      <td>170</td>\n",
       "      <td>43</td>\n",
       "      <td>7</td>\n",
       "    </tr>\n",
       "  </tbody>\n",
       "</table>\n",
       "</div>"
      ],
      "text/plain": [
       "     blue  green  red  label\n",
       "30     37     28  238      0\n",
       "220   198     76    0     11\n",
       "29    110     23   73     14\n",
       "135    13    103  244      1\n",
       "82     67    170   43      7"
      ]
     },
     "execution_count": 3,
     "metadata": {},
     "output_type": "execute_result"
    }
   ],
   "source": [
    "df = data.load_data()\n",
    "df = shuffle(df)\n",
    "print(df.shape)\n",
    "df.head()"
   ]
  },
  {
   "cell_type": "markdown",
   "metadata": {},
   "source": [
    "## Prepare data "
   ]
  },
  {
   "cell_type": "code",
   "execution_count": 4,
   "metadata": {},
   "outputs": [
    {
     "name": "stderr",
     "output_type": "stream",
     "text": [
      "c:\\users\\asus\\appdata\\local\\programs\\python\\python3.6.5\\lib\\site-packages\\sklearn\\cross_validation.py:41: DeprecationWarning: This module was deprecated in version 0.18 in favor of the model_selection module into which all the refactored classes and functions are moved. Also note that the interface of the new CV iterators are different from that of this module. This module will be removed in 0.20.\n",
      "  \"This module will be removed in 0.20.\", DeprecationWarning)\n",
      "c:\\users\\asus\\appdata\\local\\programs\\python\\python3.6.5\\lib\\site-packages\\h5py\\__init__.py:36: FutureWarning: Conversion of the second argument of issubdtype from `float` to `np.floating` is deprecated. In future, it will be treated as `np.float64 == np.dtype(float).type`.\n",
      "  from ._conv import register_converters as _register_converters\n",
      "Using TensorFlow backend.\n",
      "c:\\users\\asus\\appdata\\local\\programs\\python\\python3.6.5\\lib\\site-packages\\sklearn\\utils\\validation.py:475: DataConversionWarning: Data with input dtype int32 was converted to float64 by the scale function.\n",
      "  warnings.warn(msg, DataConversionWarning)\n"
     ]
    }
   ],
   "source": [
    "from sklearn.cross_validation import train_test_split\n",
    "from sklearn.preprocessing import scale\n",
    "from keras.utils import np_utils\n",
    "X = np.array(df.drop(['label'],axis=1))\n",
    "X = scale(X)\n",
    "y = np.array(df['label'])\n",
    "X_train, X_test, y_train, y_test = train_test_split(X, y)\n",
    "X_train = X_train.astype('float32')\n",
    "X_test = X_test.astype('float32')\n",
    "y_val = np_utils.to_categorical(y_test)\n",
    "dummy_y = np_utils.to_categorical(y_train)\n",
    "# X_train.shape, X_test.shape, y_train.shape, y_test.shape"
   ]
  },
  {
   "cell_type": "markdown",
   "metadata": {},
   "source": [
    "# Create model"
   ]
  },
  {
   "cell_type": "code",
   "execution_count": 19,
   "metadata": {},
   "outputs": [],
   "source": [
    "from keras.models import Sequential\n",
    "from keras.layers import Dense, Dropout, Conv1D, BatchNormalization,MaxPool1D,Flatten"
   ]
  },
  {
   "cell_type": "markdown",
   "metadata": {},
   "source": [
    "## First model"
   ]
  },
  {
   "cell_type": "code",
   "execution_count": 31,
   "metadata": {},
   "outputs": [],
   "source": [
    "model = Sequential()\n",
    "model.add(Dense(64,activation='relu',input_shape=(3,)))\n",
    "model.add(Dropout(0.25))\n",
    "model.add(Dense(64, activation='relu'))\n",
    "model.add(Dense(32,activation='relu'))\n",
    "model.add(Dense(15, activation='softmax'))"
   ]
  },
  {
   "cell_type": "markdown",
   "metadata": {},
   "source": [
    "## Second model "
   ]
  },
  {
   "cell_type": "code",
   "execution_count": 155,
   "metadata": {},
   "outputs": [],
   "source": [
    "model = Sequential()\n",
    "model.add(Dense(512,activation='relu',input_shape=(3,)))\n",
    "model.add(Dropout(0.5))\n",
    "model.add(Dense(1024,activation='relu'))\n",
    "model.add(Dropout(0.5))\n",
    "model.add(Dense(256,activation='relu'))\n",
    "model.add(Dropout(0.5))\n",
    "model.add(Dense(128,activation='relu'))\n",
    "model.add(Dropout(0.25))\n",
    "model.add(Dense(15,activation='softmax'))"
   ]
  },
  {
   "cell_type": "code",
   "execution_count": 156,
   "metadata": {},
   "outputs": [],
   "source": [
    "# Testing different optimizers\n",
    "from keras.optimizers import Adagrad, Adamax, Nadam, SGD, RMSprop, Adam\n",
    "sgd = SGD(lr=0.01) # accuracy - 70,67%\n",
    "adagrad = Adagrad() # accuracy - 60%\n",
    "adamax = Adamax() # 60%"
   ]
  },
  {
   "cell_type": "code",
   "execution_count": 157,
   "metadata": {},
   "outputs": [],
   "source": [
    "model.compile(loss='categorical_crossentropy',optimizer=Nadam(),metrics=['accuracy'])"
   ]
  },
  {
   "cell_type": "markdown",
   "metadata": {},
   "source": [
    "## Fit model"
   ]
  },
  {
   "cell_type": "code",
   "execution_count": 158,
   "metadata": {},
   "outputs": [
    {
     "name": "stdout",
     "output_type": "stream",
     "text": [
      "Train on 223 samples, validate on 75 samples\n",
      "Epoch 1/100\n",
      "223/223 [==============================] - 2s 7ms/step - loss: 2.5910 - acc: 0.1076 - val_loss: 2.2671 - val_acc: 0.2000\n",
      "Epoch 2/100\n",
      "223/223 [==============================] - 0s 852us/step - loss: 2.0795 - acc: 0.2825 - val_loss: 1.6509 - val_acc: 0.4800\n",
      "Epoch 3/100\n",
      "223/223 [==============================] - 0s 808us/step - loss: 1.9316 - acc: 0.2735 - val_loss: 1.6862 - val_acc: 0.3333\n",
      "Epoch 4/100\n",
      "223/223 [==============================] - 0s 897us/step - loss: 1.6870 - acc: 0.3722 - val_loss: 1.6353 - val_acc: 0.4400\n",
      "Epoch 5/100\n",
      "223/223 [==============================] - 0s 987us/step - loss: 1.6370 - acc: 0.3857 - val_loss: 1.5739 - val_acc: 0.4133\n",
      "Epoch 6/100\n",
      "223/223 [==============================] - 0s 808us/step - loss: 1.5564 - acc: 0.4395 - val_loss: 1.4474 - val_acc: 0.3733\n",
      "Epoch 7/100\n",
      "223/223 [==============================] - 0s 897us/step - loss: 1.5786 - acc: 0.3587 - val_loss: 1.5423 - val_acc: 0.4933\n",
      "Epoch 8/100\n",
      "223/223 [==============================] - 0s 852us/step - loss: 1.4636 - acc: 0.4709 - val_loss: 1.4982 - val_acc: 0.4533\n",
      "Epoch 9/100\n",
      "223/223 [==============================] - 0s 852us/step - loss: 1.4287 - acc: 0.4888 - val_loss: 1.3949 - val_acc: 0.5200\n",
      "Epoch 10/100\n",
      "223/223 [==============================] - 0s 852us/step - loss: 1.5108 - acc: 0.4664 - val_loss: 1.4407 - val_acc: 0.5200\n",
      "Epoch 11/100\n",
      "223/223 [==============================] - 0s 987us/step - loss: 1.4027 - acc: 0.4933 - val_loss: 1.4943 - val_acc: 0.4800\n",
      "Epoch 12/100\n",
      "223/223 [==============================] - 0s 763us/step - loss: 1.3838 - acc: 0.5067 - val_loss: 1.4455 - val_acc: 0.6133\n",
      "Epoch 13/100\n",
      "223/223 [==============================] - 0s 808us/step - loss: 1.3605 - acc: 0.5561 - val_loss: 1.3650 - val_acc: 0.5733\n",
      "Epoch 14/100\n",
      "223/223 [==============================] - 0s 808us/step - loss: 1.2651 - acc: 0.4888 - val_loss: 1.5294 - val_acc: 0.6133\n",
      "Epoch 15/100\n",
      "223/223 [==============================] - 0s 897us/step - loss: 1.3510 - acc: 0.4933 - val_loss: 1.4155 - val_acc: 0.5867\n",
      "Epoch 16/100\n",
      "223/223 [==============================] - 0s 942us/step - loss: 1.3088 - acc: 0.5381 - val_loss: 1.2710 - val_acc: 0.6800\n",
      "Epoch 17/100\n",
      "223/223 [==============================] - 0s 987us/step - loss: 1.4145 - acc: 0.4798 - val_loss: 1.3042 - val_acc: 0.5733\n",
      "Epoch 18/100\n",
      "223/223 [==============================] - 0s 897us/step - loss: 1.2038 - acc: 0.5516 - val_loss: 1.2913 - val_acc: 0.6933\n",
      "Epoch 19/100\n",
      "223/223 [==============================] - 0s 897us/step - loss: 1.2875 - acc: 0.5471 - val_loss: 1.3069 - val_acc: 0.5733\n",
      "Epoch 20/100\n",
      "223/223 [==============================] - 0s 897us/step - loss: 1.3064 - acc: 0.4933 - val_loss: 1.3613 - val_acc: 0.5867\n",
      "Epoch 21/100\n",
      "223/223 [==============================] - 0s 897us/step - loss: 1.2251 - acc: 0.5650 - val_loss: 1.3150 - val_acc: 0.5467\n",
      "Epoch 22/100\n",
      "223/223 [==============================] - 0s 897us/step - loss: 1.3475 - acc: 0.5516 - val_loss: 1.3338 - val_acc: 0.6133\n",
      "Epoch 23/100\n",
      "223/223 [==============================] - 0s 852us/step - loss: 1.2758 - acc: 0.5516 - val_loss: 1.2923 - val_acc: 0.6400\n",
      "Epoch 24/100\n",
      "223/223 [==============================] - 0s 852us/step - loss: 1.1365 - acc: 0.5740 - val_loss: 1.3294 - val_acc: 0.5467\n",
      "Epoch 25/100\n",
      "223/223 [==============================] - 0s 852us/step - loss: 1.1445 - acc: 0.6009 - val_loss: 1.2765 - val_acc: 0.5867\n",
      "Epoch 26/100\n",
      "223/223 [==============================] - 0s 808us/step - loss: 1.1744 - acc: 0.5291 - val_loss: 1.2701 - val_acc: 0.5600\n",
      "Epoch 27/100\n",
      "223/223 [==============================] - 0s 808us/step - loss: 1.2819 - acc: 0.5426 - val_loss: 1.3157 - val_acc: 0.6400\n",
      "Epoch 28/100\n",
      "223/223 [==============================] - 0s 897us/step - loss: 1.1794 - acc: 0.5919 - val_loss: 1.2831 - val_acc: 0.6533\n",
      "Epoch 29/100\n",
      "223/223 [==============================] - 0s 857us/step - loss: 1.1735 - acc: 0.5919 - val_loss: 1.2801 - val_acc: 0.6800\n",
      "Epoch 30/100\n",
      "223/223 [==============================] - 0s 808us/step - loss: 1.1914 - acc: 0.5874 - val_loss: 1.2885 - val_acc: 0.6933\n",
      "Epoch 31/100\n",
      "223/223 [==============================] - 0s 808us/step - loss: 1.1482 - acc: 0.6143 - val_loss: 1.3172 - val_acc: 0.6000\n",
      "Epoch 32/100\n",
      "223/223 [==============================] - 0s 852us/step - loss: 1.1250 - acc: 0.5650 - val_loss: 1.2639 - val_acc: 0.6800\n",
      "Epoch 33/100\n",
      "223/223 [==============================] - 0s 808us/step - loss: 1.1650 - acc: 0.6099 - val_loss: 1.2948 - val_acc: 0.6133\n",
      "Epoch 34/100\n",
      "223/223 [==============================] - 0s 987us/step - loss: 1.0655 - acc: 0.6143 - val_loss: 1.2615 - val_acc: 0.5333\n",
      "Epoch 35/100\n",
      "223/223 [==============================] - 0s 852us/step - loss: 1.1400 - acc: 0.5381 - val_loss: 1.2506 - val_acc: 0.6800\n",
      "Epoch 36/100\n",
      "223/223 [==============================] - 0s 808us/step - loss: 1.1102 - acc: 0.6502 - val_loss: 1.3070 - val_acc: 0.6400\n",
      "Epoch 37/100\n",
      "223/223 [==============================] - 0s 808us/step - loss: 1.0836 - acc: 0.6323 - val_loss: 1.3037 - val_acc: 0.7333\n",
      "Epoch 38/100\n",
      "223/223 [==============================] - 0s 897us/step - loss: 1.0782 - acc: 0.6054 - val_loss: 1.3046 - val_acc: 0.6400\n",
      "Epoch 39/100\n",
      "223/223 [==============================] - 0s 763us/step - loss: 1.1377 - acc: 0.5874 - val_loss: 1.3633 - val_acc: 0.7067\n",
      "Epoch 40/100\n",
      "223/223 [==============================] - 0s 942us/step - loss: 1.0390 - acc: 0.6278 - val_loss: 1.3803 - val_acc: 0.4933\n",
      "Epoch 41/100\n",
      "223/223 [==============================] - 0s 763us/step - loss: 1.1165 - acc: 0.6502 - val_loss: 1.3366 - val_acc: 0.6400\n",
      "Epoch 42/100\n",
      "223/223 [==============================] - 0s 763us/step - loss: 0.9952 - acc: 0.6099 - val_loss: 1.3574 - val_acc: 0.7067\n",
      "Epoch 43/100\n",
      "223/223 [==============================] - 0s 852us/step - loss: 1.1141 - acc: 0.6413 - val_loss: 1.3541 - val_acc: 0.6533\n",
      "Epoch 44/100\n",
      "223/223 [==============================] - 0s 852us/step - loss: 1.0948 - acc: 0.6502 - val_loss: 1.3544 - val_acc: 0.6800\n",
      "Epoch 45/100\n",
      "223/223 [==============================] - 0s 868us/step - loss: 1.0245 - acc: 0.6323 - val_loss: 1.3682 - val_acc: 0.7200\n",
      "Epoch 46/100\n",
      "223/223 [==============================] - 0s 1ms/step - loss: 1.0664 - acc: 0.6143 - val_loss: 1.3495 - val_acc: 0.7067\n",
      "Epoch 47/100\n",
      "223/223 [==============================] - 0s 897us/step - loss: 1.0462 - acc: 0.6502 - val_loss: 1.3237 - val_acc: 0.7467\n",
      "Epoch 48/100\n",
      "223/223 [==============================] - 0s 852us/step - loss: 1.1328 - acc: 0.6009 - val_loss: 1.2927 - val_acc: 0.6933\n",
      "Epoch 49/100\n",
      "223/223 [==============================] - 0s 942us/step - loss: 1.0763 - acc: 0.6233 - val_loss: 1.2850 - val_acc: 0.6400\n",
      "Epoch 50/100\n",
      "223/223 [==============================] - 0s 852us/step - loss: 0.9546 - acc: 0.6682 - val_loss: 1.3795 - val_acc: 0.6800\n",
      "Epoch 51/100\n",
      "223/223 [==============================] - 0s 852us/step - loss: 0.9848 - acc: 0.6637 - val_loss: 1.3411 - val_acc: 0.7200\n",
      "Epoch 52/100\n",
      "223/223 [==============================] - 0s 942us/step - loss: 1.0727 - acc: 0.6502 - val_loss: 1.3160 - val_acc: 0.6400\n",
      "Epoch 53/100\n",
      "223/223 [==============================] - 0s 808us/step - loss: 1.0894 - acc: 0.6457 - val_loss: 1.3484 - val_acc: 0.6667\n",
      "Epoch 54/100\n",
      "223/223 [==============================] - 0s 897us/step - loss: 1.0490 - acc: 0.6323 - val_loss: 1.2951 - val_acc: 0.7333\n",
      "Epoch 55/100\n",
      "223/223 [==============================] - 0s 855us/step - loss: 0.9715 - acc: 0.6368 - val_loss: 1.3478 - val_acc: 0.7067\n",
      "Epoch 56/100\n",
      "223/223 [==============================] - 0s 763us/step - loss: 1.0218 - acc: 0.6323 - val_loss: 1.3687 - val_acc: 0.6933\n",
      "Epoch 57/100\n",
      "223/223 [==============================] - 0s 808us/step - loss: 0.9769 - acc: 0.6457 - val_loss: 1.3809 - val_acc: 0.6800\n",
      "Epoch 58/100\n",
      "223/223 [==============================] - 0s 897us/step - loss: 0.9992 - acc: 0.6457 - val_loss: 1.2980 - val_acc: 0.6933\n",
      "Epoch 59/100\n",
      "223/223 [==============================] - 0s 897us/step - loss: 0.9706 - acc: 0.6547 - val_loss: 1.2864 - val_acc: 0.7333\n",
      "Epoch 60/100\n",
      "223/223 [==============================] - 0s 852us/step - loss: 0.9699 - acc: 0.6726 - val_loss: 1.3928 - val_acc: 0.7067\n",
      "Epoch 61/100\n"
     ]
    },
    {
     "name": "stdout",
     "output_type": "stream",
     "text": [
      "223/223 [==============================] - 0s 852us/step - loss: 0.9968 - acc: 0.6547 - val_loss: 1.3069 - val_acc: 0.6533\n",
      "Epoch 62/100\n",
      "223/223 [==============================] - 0s 808us/step - loss: 0.9303 - acc: 0.6502 - val_loss: 1.3129 - val_acc: 0.6400\n",
      "Epoch 63/100\n",
      "223/223 [==============================] - 0s 852us/step - loss: 0.9590 - acc: 0.6951 - val_loss: 1.3151 - val_acc: 0.7200\n",
      "Epoch 64/100\n",
      "223/223 [==============================] - 0s 897us/step - loss: 0.9028 - acc: 0.6457 - val_loss: 1.3181 - val_acc: 0.7067\n",
      "Epoch 65/100\n",
      "223/223 [==============================] - 0s 808us/step - loss: 0.8931 - acc: 0.7085 - val_loss: 1.2922 - val_acc: 0.7467\n",
      "Epoch 66/100\n",
      "223/223 [==============================] - 0s 907us/step - loss: 1.0570 - acc: 0.6233 - val_loss: 1.2965 - val_acc: 0.7333\n",
      "Epoch 67/100\n",
      "223/223 [==============================] - 0s 808us/step - loss: 1.0271 - acc: 0.6816 - val_loss: 1.2964 - val_acc: 0.5600\n",
      "Epoch 68/100\n",
      "223/223 [==============================] - 0s 763us/step - loss: 0.9948 - acc: 0.6143 - val_loss: 1.3370 - val_acc: 0.7200\n",
      "Epoch 69/100\n",
      "223/223 [==============================] - 0s 897us/step - loss: 0.9923 - acc: 0.6413 - val_loss: 1.3866 - val_acc: 0.7067\n",
      "Epoch 70/100\n",
      "223/223 [==============================] - 0s 808us/step - loss: 1.0195 - acc: 0.6413 - val_loss: 1.3050 - val_acc: 0.6800\n",
      "Epoch 71/100\n",
      "223/223 [==============================] - 0s 808us/step - loss: 0.9654 - acc: 0.6816 - val_loss: 1.3364 - val_acc: 0.6800\n",
      "Epoch 72/100\n",
      "223/223 [==============================] - 0s 763us/step - loss: 0.8897 - acc: 0.6592 - val_loss: 1.3632 - val_acc: 0.7200\n",
      "Epoch 73/100\n",
      "223/223 [==============================] - 0s 763us/step - loss: 0.9087 - acc: 0.6861 - val_loss: 1.2814 - val_acc: 0.7333\n",
      "Epoch 74/100\n",
      "223/223 [==============================] - 0s 852us/step - loss: 0.9989 - acc: 0.6906 - val_loss: 1.3145 - val_acc: 0.6933\n",
      "Epoch 75/100\n",
      "223/223 [==============================] - 0s 1ms/step - loss: 0.9715 - acc: 0.6368 - val_loss: 1.3450 - val_acc: 0.6933\n",
      "Epoch 76/100\n",
      "223/223 [==============================] - 0s 897us/step - loss: 0.9167 - acc: 0.6682 - val_loss: 1.3044 - val_acc: 0.7333\n",
      "Epoch 77/100\n",
      "223/223 [==============================] - 0s 942us/step - loss: 1.0819 - acc: 0.6323 - val_loss: 1.3628 - val_acc: 0.6533\n",
      "Epoch 78/100\n",
      "223/223 [==============================] - 0s 763us/step - loss: 0.9638 - acc: 0.6413 - val_loss: 1.3043 - val_acc: 0.7067\n",
      "Epoch 79/100\n",
      "223/223 [==============================] - 0s 763us/step - loss: 0.9429 - acc: 0.6906 - val_loss: 1.3183 - val_acc: 0.7333\n",
      "Epoch 80/100\n",
      "223/223 [==============================] - ETA: 0s - loss: 0.8673 - acc: 0.685 - 0s 763us/step - loss: 0.9032 - acc: 0.6547 - val_loss: 1.3995 - val_acc: 0.7333\n",
      "Epoch 81/100\n",
      "223/223 [==============================] - 0s 897us/step - loss: 0.9704 - acc: 0.6413 - val_loss: 1.3863 - val_acc: 0.6400\n",
      "Epoch 82/100\n",
      "223/223 [==============================] - 0s 808us/step - loss: 0.9489 - acc: 0.6771 - val_loss: 1.3441 - val_acc: 0.7067\n",
      "Epoch 83/100\n",
      "223/223 [==============================] - 0s 808us/step - loss: 0.8783 - acc: 0.7399 - val_loss: 1.4153 - val_acc: 0.6933\n",
      "Epoch 84/100\n",
      "223/223 [==============================] - 0s 852us/step - loss: 0.8791 - acc: 0.7085 - val_loss: 1.3361 - val_acc: 0.6933\n",
      "Epoch 85/100\n",
      "223/223 [==============================] - 0s 987us/step - loss: 0.9715 - acc: 0.6682 - val_loss: 1.2940 - val_acc: 0.6800\n",
      "Epoch 86/100\n",
      "223/223 [==============================] - 0s 897us/step - loss: 0.8576 - acc: 0.7130 - val_loss: 1.3777 - val_acc: 0.7200\n",
      "Epoch 87/100\n",
      "223/223 [==============================] - 0s 1ms/step - loss: 0.9047 - acc: 0.6637 - val_loss: 1.2976 - val_acc: 0.7333\n",
      "Epoch 88/100\n",
      "223/223 [==============================] - 0s 897us/step - loss: 0.9076 - acc: 0.7354 - val_loss: 1.3492 - val_acc: 0.7467\n",
      "Epoch 89/100\n",
      "223/223 [==============================] - 0s 987us/step - loss: 0.9275 - acc: 0.6861 - val_loss: 1.2840 - val_acc: 0.7600\n",
      "Epoch 90/100\n",
      "223/223 [==============================] - 0s 942us/step - loss: 0.8790 - acc: 0.7130 - val_loss: 1.3107 - val_acc: 0.7067\n",
      "Epoch 91/100\n",
      "223/223 [==============================] - 0s 897us/step - loss: 0.9867 - acc: 0.6771 - val_loss: 1.3694 - val_acc: 0.7067\n",
      "Epoch 92/100\n",
      "223/223 [==============================] - 0s 897us/step - loss: 0.8911 - acc: 0.6726 - val_loss: 1.3287 - val_acc: 0.7067\n",
      "Epoch 93/100\n",
      "223/223 [==============================] - 0s 1ms/step - loss: 0.8635 - acc: 0.7309 - val_loss: 1.3457 - val_acc: 0.7200\n",
      "Epoch 94/100\n",
      "223/223 [==============================] - 0s 897us/step - loss: 0.8732 - acc: 0.6951 - val_loss: 1.3845 - val_acc: 0.6133\n",
      "Epoch 95/100\n",
      "223/223 [==============================] - 0s 942us/step - loss: 0.9292 - acc: 0.6771 - val_loss: 1.3175 - val_acc: 0.7333\n",
      "Epoch 96/100\n",
      "223/223 [==============================] - 0s 852us/step - loss: 0.8893 - acc: 0.6816 - val_loss: 1.3208 - val_acc: 0.7600\n",
      "Epoch 97/100\n",
      "223/223 [==============================] - 0s 1ms/step - loss: 0.8514 - acc: 0.6816 - val_loss: 1.2971 - val_acc: 0.7467\n",
      "Epoch 98/100\n",
      "223/223 [==============================] - 0s 1ms/step - loss: 0.9075 - acc: 0.6816 - val_loss: 1.3054 - val_acc: 0.7333\n",
      "Epoch 99/100\n",
      "223/223 [==============================] - 0s 987us/step - loss: 0.8187 - acc: 0.6816 - val_loss: 1.2660 - val_acc: 0.7333\n",
      "Epoch 100/100\n",
      "223/223 [==============================] - 0s 942us/step - loss: 0.8525 - acc: 0.6951 - val_loss: 1.2444 - val_acc: 0.7200\n"
     ]
    }
   ],
   "source": [
    "# I used 100 epoches\n",
    "history = model.fit(X_train, dummy_y, epochs=100,verbose=1, batch_size=12,validation_data=(X_test,y_val))"
   ]
  },
  {
   "cell_type": "code",
   "execution_count": 159,
   "metadata": {},
   "outputs": [
    {
     "name": "stdout",
     "output_type": "stream",
     "text": [
      "True : 2 Pred : 0\n",
      "True : 5 Pred : 5\n",
      "True : 13 Pred : 13\n",
      "True : 7 Pred : 7\n",
      "True : 13 Pred : 13\n",
      "True : 1 Pred : 1\n",
      "True : 10 Pred : 10\n",
      "True : 7 Pred : 7\n",
      "True : 11 Pred : 0\n",
      "True : 6 Pred : 5\n",
      "True : 5 Pred : 2\n",
      "True : 5 Pred : 5\n",
      "True : 4 Pred : 3\n",
      "True : 11 Pred : 11\n",
      "True : 3 Pred : 3\n",
      "True : 1 Pred : 1\n",
      "True : 12 Pred : 14\n",
      "True : 1 Pred : 0\n",
      "True : 4 Pred : 1\n",
      "True : 14 Pred : 14\n",
      "True : 1 Pred : 1\n",
      "True : 14 Pred : 14\n",
      "True : 13 Pred : 12\n",
      "True : 13 Pred : 14\n",
      "True : 13 Pred : 13\n",
      "True : 10 Pred : 10\n",
      "True : 7 Pred : 7\n",
      "True : 13 Pred : 13\n",
      "True : 5 Pred : 5\n",
      "True : 10 Pred : 10\n",
      "True : 7 Pred : 7\n",
      "True : 12 Pred : 12\n",
      "True : 2 Pred : 2\n",
      "True : 2 Pred : 2\n",
      "True : 1 Pred : 1\n",
      "True : 2 Pred : 2\n",
      "True : 14 Pred : 14\n",
      "True : 8 Pred : 8\n",
      "True : 13 Pred : 13\n",
      "True : 5 Pred : 6\n",
      "True : 3 Pred : 3\n",
      "True : 14 Pred : 14\n",
      "True : 7 Pred : 3\n",
      "True : 7 Pred : 6\n",
      "True : 3 Pred : 3\n",
      "True : 6 Pred : 6\n",
      "True : 13 Pred : 13\n",
      "True : 5 Pred : 2\n",
      "True : 2 Pred : 0\n",
      "True : 14 Pred : 14\n",
      "True : 0 Pred : 0\n",
      "True : 14 Pred : 14\n",
      "True : 0 Pred : 0\n",
      "True : 13 Pred : 13\n",
      "True : 9 Pred : 9\n",
      "True : 6 Pred : 2\n",
      "True : 1 Pred : 1\n",
      "True : 6 Pred : 5\n",
      "True : 11 Pred : 11\n",
      "True : 8 Pred : 8\n",
      "True : 7 Pred : 7\n",
      "True : 2 Pred : 1\n",
      "True : 1 Pred : 1\n",
      "True : 10 Pred : 7\n",
      "True : 11 Pred : 12\n",
      "True : 14 Pred : 14\n",
      "True : 13 Pred : 13\n",
      "True : 0 Pred : 0\n",
      "True : 4 Pred : 4\n",
      "True : 11 Pred : 12\n",
      "True : 10 Pred : 10\n",
      "True : 7 Pred : 7\n",
      "True : 12 Pred : 12\n",
      "True : 3 Pred : 3\n",
      "True : 6 Pred : 6\n"
     ]
    }
   ],
   "source": [
    "pred = model.predict(X_test)\n",
    "# for i in range(len(pred)):\n",
    "#     print(np.max(pred[i]))\n",
    "y_pred = pred.argmax(axis=1)\n",
    "for i in range(len(y_pred)):\n",
    "    print('True : {} Pred : {}'.format(y_test[i],y_pred[i]))"
   ]
  },
  {
   "cell_type": "code",
   "execution_count": 152,
   "metadata": {},
   "outputs": [],
   "source": [
    "# model.save('nn-v2-adam-100epochs-higherdrop.h5')"
   ]
  },
  {
   "cell_type": "code",
   "execution_count": 160,
   "metadata": {},
   "outputs": [
    {
     "data": {
      "text/plain": [
       "0.72"
      ]
     },
     "execution_count": 160,
     "metadata": {},
     "output_type": "execute_result"
    }
   ],
   "source": [
    "from sklearn.metrics import accuracy_score\n",
    "accuracy_score(y_test,y_pred)"
   ]
  },
  {
   "cell_type": "markdown",
   "metadata": {},
   "source": [
    "## Plot loss and accuracy score"
   ]
  },
  {
   "cell_type": "code",
   "execution_count": 161,
   "metadata": {},
   "outputs": [
    {
     "data": {
      "image/png": "[encoded data removed]",
      "text/plain": [
       "<Figure size 432x288 with 1 Axes>"
      ]
     },
     "metadata": {},
     "output_type": "display_data"
    }
   ],
   "source": [
    "import matplotlib.pyplot as plt\n",
    "# score \n",
    "plt.plot(history.history['acc'])\n",
    "plt.plot(history.history['val_acc'])\n",
    "plt.ylabel('accuracy')\n",
    "plt.xlabel('epoch')\n",
    "plt.legend(['train', 'test'], loc='upper left')\n",
    "plt.show()"
   ]
  },
  {
   "cell_type": "code",
   "execution_count": 162,
   "metadata": {},
   "outputs": [
    {
     "data": {
      "image/png": "[encoded data removed]",
      "text/plain": [
       "<Figure size 432x288 with 1 Axes>"
      ]
     },
     "metadata": {},
     "output_type": "display_data"
    }
   ],
   "source": [
    "# loss \n",
    "plt.plot(history.history['loss'])\n",
    "plt.plot(history.history['val_loss'])\n",
    "plt.title('model loss')\n",
    "plt.ylabel('loss')\n",
    "plt.xlabel('epoch')\n",
    "plt.legend(['train', 'test'], loc='upper left')\n",
    "plt.show()"
   ]
  }
 ],
 "metadata": {
  "kernelspec": {
   "display_name": "Python 3",
   "language": "python",
   "name": "python3"
  },
  "language_info": {
   "codemirror_mode": {
    "name": "ipython",
    "version": 3
   },
   "file_extension": ".py",
   "mimetype": "text/x-python",
   "name": "python",
   "nbconvert_exporter": "python",
   "pygments_lexer": "ipython3",
   "version": "3.6.5"
  }
 },
 "nbformat": 4,
 "nbformat_minor": 2
}
