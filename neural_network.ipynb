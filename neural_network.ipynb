{
 "cells": [
  {
   "cell_type": "markdown",
   "metadata": {},
   "source": [
    "# Import data"
   ]
  },
  {
   "cell_type": "code",
   "execution_count": 1,
   "metadata": {},
   "outputs": [],
   "source": [
    "import numpy as np\n",
    "import pandas as pd\n",
    "from load_data import LoadData\n",
    "from sklearn.utils import shuffle"
   ]
  },
  {
   "cell_type": "code",
   "execution_count": 2,
   "metadata": {},
   "outputs": [],
   "source": [
    "data = LoadData(34)"
   ]
  },
  {
   "cell_type": "code",
   "execution_count": 3,
   "metadata": {},
   "outputs": [
    {
     "name": "stdout",
     "output_type": "stream",
     "text": [
      "no image\n",
      "no image\n",
      "no image\n",
      "no image\n",
      "no image\n",
      "no image\n",
      "(504, 4)\n"
     ]
    },
    {
     "data": {
      "text/html": [
       "<div>\n",
       "<style scoped>\n",
       "    .dataframe tbody tr th:only-of-type {\n",
       "        vertical-align: middle;\n",
       "    }\n",
       "\n",
       "    .dataframe tbody tr th {\n",
       "        vertical-align: top;\n",
       "    }\n",
       "\n",
       "    .dataframe thead th {\n",
       "        text-align: right;\n",
       "    }\n",
       "</style>\n",
       "<table border=\"1\" class=\"dataframe\">\n",
       "  <thead>\n",
       "    <tr style=\"text-align: right;\">\n",
       "      <th></th>\n",
       "      <th>blue</th>\n",
       "      <th>green</th>\n",
       "      <th>red</th>\n",
       "      <th>label</th>\n",
       "    </tr>\n",
       "  </thead>\n",
       "  <tbody>\n",
       "    <tr>\n",
       "      <th>139</th>\n",
       "      <td>55</td>\n",
       "      <td>197</td>\n",
       "      <td>130</td>\n",
       "      <td>5</td>\n",
       "    </tr>\n",
       "    <tr>\n",
       "      <th>395</th>\n",
       "      <td>88</td>\n",
       "      <td>164</td>\n",
       "      <td>0</td>\n",
       "      <td>8</td>\n",
       "    </tr>\n",
       "    <tr>\n",
       "      <th>18</th>\n",
       "      <td>36</td>\n",
       "      <td>195</td>\n",
       "      <td>255</td>\n",
       "      <td>3</td>\n",
       "    </tr>\n",
       "    <tr>\n",
       "      <th>398</th>\n",
       "      <td>213</td>\n",
       "      <td>77</td>\n",
       "      <td>0</td>\n",
       "      <td>11</td>\n",
       "    </tr>\n",
       "    <tr>\n",
       "      <th>496</th>\n",
       "      <td>58</td>\n",
       "      <td>148</td>\n",
       "      <td>52</td>\n",
       "      <td>7</td>\n",
       "    </tr>\n",
       "  </tbody>\n",
       "</table>\n",
       "</div>"
      ],
      "text/plain": [
       "     blue  green  red  label\n",
       "139    55    197  130      5\n",
       "395    88    164    0      8\n",
       "18     36    195  255      3\n",
       "398   213     77    0     11\n",
       "496    58    148   52      7"
      ]
     },
     "execution_count": 3,
     "metadata": {},
     "output_type": "execute_result"
    }
   ],
   "source": [
    "df = data.load_data()\n",
    "df = shuffle(df)\n",
    "print(df.shape)\n",
    "df.head()"
   ]
  },
  {
   "cell_type": "markdown",
   "metadata": {},
   "source": [
    "## Prepare data "
   ]
  },
  {
   "cell_type": "code",
   "execution_count": 15,
   "metadata": {},
   "outputs": [
    {
     "name": "stderr",
     "output_type": "stream",
     "text": [
      "c:\\users\\asus\\appdata\\local\\programs\\python\\python3.6.5\\lib\\site-packages\\sklearn\\utils\\validation.py:475: DataConversionWarning: Data with input dtype int32 was converted to float64 by StandardScaler.\n",
      "  warnings.warn(msg, DataConversionWarning)\n"
     ]
    },
    {
     "data": {
      "text/plain": [
       "array([[-0.3801516 ,  0.10895224, -1.3010138 ],\n",
       "       [-0.48605716, -0.53225535,  1.2086854 ],\n",
       "       [-0.97587043,  0.982086  ,  0.145625  ],\n",
       "       ...,\n",
       "       [-1.1612052 ,  1.5005091 ,  1.3949949 ],\n",
       "       [-0.49929535,  1.1048704 ,  0.6716755 ],\n",
       "       [ 0.95690614, -1.268962  , -0.5119381 ]], dtype=float32)"
      ]
     },
     "execution_count": 15,
     "metadata": {},
     "output_type": "execute_result"
    }
   ],
   "source": [
    "from sklearn.cross_validation import train_test_split\n",
    "from sklearn.preprocessing import scale\n",
    "from sklearn.preprocessing import StandardScaler\n",
    "from keras.utils import np_utils\n",
    "X = np.array(df.drop(['label'],axis=1))\n",
    "# X = scale(X)\n",
    "scaler = StandardScaler()\n",
    "X = scaler.fit_transform(X)\n",
    "y = np.array(df['label'])\n",
    "X_train, X_test, y_train, y_test = train_test_split(X, y)\n",
    "X_train = X_train.astype('float32')\n",
    "X_test = X_test.astype('float32')\n",
    "y_val = np_utils.to_categorical(y_test)\n",
    "dummy_y = np_utils.to_categorical(y_train)\n",
    "# X_train.shape, X_test.shape, y_train.shape, y_test.shape\n",
    "X_train"
   ]
  },
  {
   "cell_type": "markdown",
   "metadata": {},
   "source": [
    "# Create model"
   ]
  },
  {
   "cell_type": "code",
   "execution_count": 5,
   "metadata": {},
   "outputs": [],
   "source": [
    "from keras.models import Sequential\n",
    "from keras.layers import Dense, Dropout, Conv1D,Conv2D, BatchNormalization,MaxPool1D,Flatten,MaxPool2D"
   ]
  },
  {
   "cell_type": "markdown",
   "metadata": {},
   "source": [
    "## First model"
   ]
  },
  {
   "cell_type": "code",
   "execution_count": 31,
   "metadata": {},
   "outputs": [],
   "source": [
    "model = Sequential()\n",
    "model.add(Dense(64,activation='relu',input_shape=(3,)))\n",
    "model.add(Dropout(0.25))\n",
    "model.add(Dense(64, activation='relu'))\n",
    "model.add(Dense(32,activation='relu'))\n",
    "model.add(Dense(15, activation='softmax'))"
   ]
  },
  {
   "cell_type": "markdown",
   "metadata": {},
   "source": [
    "## Second model "
   ]
  },
  {
   "cell_type": "code",
   "execution_count": 43,
   "metadata": {},
   "outputs": [],
   "source": [
    "model = Sequential()\n",
    "model.add(Dense(128,activation='relu',input_shape=(3,)))\n",
    "model.add(Dropout(0.25))\n",
    "model.add(Dense(512,activation='relu'))\n",
    "model.add(Dropout(0.4))\n",
    "model.add(Dense(512,activation='relu'))\n",
    "model.add(Dropout(0.5))\n",
    "model.add(Dense(128,activation='relu'))\n",
    "model.add(Dense(15,activation='softmax'))"
   ]
  },
  {
   "cell_type": "markdown",
   "metadata": {},
   "source": [
    "\n",
    "## Conv2D - not finished"
   ]
  },
  {
   "cell_type": "code",
   "execution_count": 134,
   "metadata": {},
   "outputs": [
    {
     "data": {
      "text/plain": [
       "((89, 3, 3, 1), (30, 3, 3, 1), (267, 15), (90, 15))"
      ]
     },
     "execution_count": 134,
     "metadata": {},
     "output_type": "execute_result"
    }
   ],
   "source": [
    "from keras import backend as K\n",
    "K.set_image_dim_ordering('th')\n",
    "\n",
    "model = Sequential()\n",
    "\n",
    "model.add(Conv2D(filters=15,kernel_size=(1,1),activation='relu',input_shape=(3,3,1)))\n",
    "model.add(BatchNormalization())\n",
    "\n",
    "\n",
    "# model.add(Conv2D(filters=32,kernel_size=(2,2),activation='relu'))\n",
    "# model.add(BatchNormalization())\n",
    "# model.add(Conv2D(filters=32,kernel_size=(2,2),activation='relu'))\n",
    "# model.add(BatchNormalization())\n",
    "# model.add(MaxPool2D(strides=(2,2)))\n",
    "# model.add(Dropout(0.3))\n",
    "\n",
    "model.add(Flatten())\n",
    "model.add(Dense(512,activation='relu'))\n",
    "model.add(Dropout(0.3))\n",
    "model.add(Dense(256,activation='relu'))\n",
    "model.add(Dropout(0.3))\n",
    "model.add(Dense(15,activation='softmax'))\n",
    "X_train = X_train.reshape(-1, 3, 3, 1)\n",
    "X_test = X_test.reshape(-1, 3, 3, 1)\n",
    "# do poprawy reshape dummy i y_val macierzy \n",
    "X_train.shape, X_test.shape, dummy_y.shape, y_val.shape"
   ]
  },
  {
   "cell_type": "code",
   "execution_count": 17,
   "metadata": {},
   "outputs": [],
   "source": [
    "# Testing different optimizers\n",
    "from keras.optimizers import Adagrad, Adamax, Nadam, SGD, RMSprop, Adam\n",
    "sgd = SGD(lr=0.01) # accuracy - 70,67%\n",
    "adagrad = Adagrad() # accuracy - 75%\n",
    "adamax = Adamax() # 74%"
   ]
  },
  {
   "cell_type": "code",
   "execution_count": 44,
   "metadata": {},
   "outputs": [],
   "source": [
    "model.compile(loss='categorical_crossentropy',optimizer=Adam(),metrics=['accuracy'])"
   ]
  },
  {
   "cell_type": "markdown",
   "metadata": {},
   "source": [
    "## Fit model"
   ]
  },
  {
   "cell_type": "code",
   "execution_count": 50,
   "metadata": {},
   "outputs": [
    {
     "name": "stdout",
     "output_type": "stream",
     "text": [
      "Train on 378 samples, validate on 126 samples\n",
      "Epoch 1/2\n",
      "378/378 [==============================] - 0s 526us/step - loss: 0.7598 - acc: 0.7407 - val_loss: 1.2528 - val_acc: 0.7540\n",
      "Epoch 2/2\n",
      "378/378 [==============================] - 0s 462us/step - loss: 0.7642 - acc: 0.7222 - val_loss: 1.1978 - val_acc: 0.7222\n"
     ]
    }
   ],
   "source": [
    "# I used 100 epoches\n",
    "history = model.fit(X_train, dummy_y, epochs=2, verbose=1, batch_size=16, validation_data=(X_test,y_val))"
   ]
  },
  {
   "cell_type": "code",
   "execution_count": 49,
   "metadata": {},
   "outputs": [
    {
     "name": "stdout",
     "output_type": "stream",
     "text": [
      "True : 3 Pred : 2\n",
      "True : 9 Pred : 7\n",
      "True : 0 Pred : 0\n",
      "True : 2 Pred : 2\n",
      "True : 14 Pred : 14\n",
      "True : 12 Pred : 12\n",
      "True : 8 Pred : 8\n",
      "True : 4 Pred : 4\n",
      "True : 2 Pred : 2\n",
      "True : 9 Pred : 9\n",
      "True : 14 Pred : 14\n",
      "True : 14 Pred : 14\n",
      "True : 1 Pred : 1\n",
      "True : 3 Pred : 3\n",
      "True : 14 Pred : 14\n",
      "True : 11 Pred : 11\n",
      "True : 4 Pred : 4\n",
      "True : 11 Pred : 11\n",
      "True : 9 Pred : 9\n",
      "True : 12 Pred : 12\n",
      "True : 2 Pred : 2\n",
      "True : 3 Pred : 3\n",
      "True : 6 Pred : 6\n",
      "True : 4 Pred : 4\n",
      "True : 14 Pred : 14\n",
      "True : 10 Pred : 10\n",
      "True : 8 Pred : 4\n",
      "True : 9 Pred : 9\n",
      "True : 13 Pred : 13\n",
      "True : 5 Pred : 5\n",
      "True : 11 Pred : 11\n",
      "True : 7 Pred : 5\n",
      "True : 13 Pred : 13\n",
      "True : 12 Pred : 13\n",
      "True : 7 Pred : 7\n",
      "True : 9 Pred : 9\n",
      "True : 1 Pred : 1\n",
      "True : 2 Pred : 2\n",
      "True : 0 Pred : 0\n",
      "True : 2 Pred : 0\n",
      "True : 5 Pred : 5\n",
      "True : 6 Pred : 6\n",
      "True : 3 Pred : 2\n",
      "True : 11 Pred : 11\n",
      "True : 10 Pred : 10\n",
      "True : 0 Pred : 0\n",
      "True : 8 Pred : 8\n",
      "True : 13 Pred : 14\n",
      "True : 6 Pred : 6\n",
      "True : 11 Pred : 13\n",
      "True : 6 Pred : 6\n",
      "True : 4 Pred : 2\n",
      "True : 3 Pred : 3\n",
      "True : 3 Pred : 3\n",
      "True : 2 Pred : 2\n",
      "True : 4 Pred : 4\n",
      "True : 8 Pred : 8\n",
      "True : 1 Pred : 1\n",
      "True : 12 Pred : 13\n",
      "True : 3 Pred : 1\n",
      "True : 1 Pred : 1\n",
      "True : 2 Pred : 1\n",
      "True : 12 Pred : 12\n",
      "True : 5 Pred : 5\n",
      "True : 1 Pred : 1\n",
      "True : 10 Pred : 13\n",
      "True : 0 Pred : 0\n",
      "True : 9 Pred : 9\n",
      "True : 0 Pred : 0\n",
      "True : 14 Pred : 14\n",
      "True : 14 Pred : 14\n",
      "True : 5 Pred : 5\n",
      "True : 7 Pred : 3\n",
      "True : 4 Pred : 4\n",
      "True : 9 Pred : 9\n",
      "True : 2 Pred : 2\n",
      "True : 0 Pred : 0\n",
      "True : 6 Pred : 5\n",
      "True : 14 Pred : 14\n",
      "True : 12 Pred : 10\n",
      "True : 0 Pred : 0\n",
      "True : 4 Pred : 4\n",
      "True : 1 Pred : 1\n",
      "True : 8 Pred : 8\n",
      "True : 9 Pred : 5\n",
      "True : 11 Pred : 11\n",
      "True : 10 Pred : 10\n",
      "True : 10 Pred : 11\n",
      "True : 13 Pred : 13\n",
      "True : 12 Pred : 12\n",
      "True : 13 Pred : 13\n",
      "True : 14 Pred : 14\n",
      "True : 4 Pred : 4\n",
      "True : 4 Pred : 4\n",
      "True : 3 Pred : 2\n",
      "True : 0 Pred : 0\n",
      "True : 8 Pred : 8\n",
      "True : 5 Pred : 5\n",
      "True : 10 Pred : 10\n",
      "True : 4 Pred : 4\n",
      "True : 12 Pred : 11\n",
      "True : 8 Pred : 8\n",
      "True : 11 Pred : 10\n",
      "True : 1 Pred : 1\n",
      "True : 10 Pred : 10\n",
      "True : 7 Pred : 7\n",
      "True : 10 Pred : 10\n",
      "True : 5 Pred : 5\n",
      "True : 5 Pred : 2\n",
      "True : 7 Pred : 6\n",
      "True : 7 Pred : 7\n",
      "True : 12 Pred : 12\n",
      "True : 7 Pred : 7\n",
      "True : 9 Pred : 9\n",
      "True : 1 Pred : 1\n",
      "True : 3 Pred : 3\n",
      "True : 13 Pred : 13\n",
      "True : 14 Pred : 14\n",
      "True : 14 Pred : 13\n",
      "True : 3 Pred : 3\n",
      "True : 7 Pred : 7\n",
      "True : 6 Pred : 2\n",
      "True : 14 Pred : 14\n",
      "True : 14 Pred : 14\n",
      "True : 12 Pred : 13\n",
      "True : 4 Pred : 3\n"
     ]
    }
   ],
   "source": [
    "pred = model.predict(X_test)\n",
    "# for i in range(len(pred)):\n",
    "#     print(np.max(pred[i]))\n",
    "y_pred = pred.argmax(axis=1)\n",
    "for i in range(len(y_pred)):\n",
    "    print('True : {} Pred : {}'.format(y_test[i],y_pred[i]))"
   ]
  },
  {
   "cell_type": "code",
   "execution_count": 77,
   "metadata": {},
   "outputs": [],
   "source": [
    "# model.save('nn-adamax-100epochs-29data-77%.h5')"
   ]
  },
  {
   "cell_type": "code",
   "execution_count": 46,
   "metadata": {},
   "outputs": [
    {
     "data": {
      "text/plain": [
       "0.7063492063492064"
      ]
     },
     "execution_count": 46,
     "metadata": {},
     "output_type": "execute_result"
    }
   ],
   "source": [
    "from sklearn.metrics import accuracy_score\n",
    "accuracy_score(y_test,y_pred)"
   ]
  },
  {
   "cell_type": "markdown",
   "metadata": {},
   "source": [
    "## Plot loss and accuracy score"
   ]
  },
  {
   "cell_type": "code",
   "execution_count": 47,
   "metadata": {},
   "outputs": [
    {
     "data": {
      "image/png": "[encoded data removed]",
      "text/plain": [
       "<Figure size 432x288 with 1 Axes>"
      ]
     },
     "metadata": {},
     "output_type": "display_data"
    }
   ],
   "source": [
    "import matplotlib.pyplot as plt\n",
    "%matplotlib inline\n",
    "# score \n",
    "plt.plot(history.history['acc'])\n",
    "plt.plot(history.history['val_acc'])\n",
    "plt.ylabel('accuracy')\n",
    "plt.xlabel('epoch')\n",
    "plt.legend(['train', 'test'], loc='upper left')\n",
    "plt.show()"
   ]
  },
  {
   "cell_type": "code",
   "execution_count": 48,
   "metadata": {},
   "outputs": [
    {
     "data": {
      "image/png": "[encoded data removed]",
      "text/plain": [
       "<Figure size 432x288 with 1 Axes>"
      ]
     },
     "metadata": {},
     "output_type": "display_data"
    }
   ],
   "source": [
    "# loss \n",
    "plt.plot(history.history['loss'])\n",
    "plt.plot(history.history['val_loss'])\n",
    "plt.title('model loss')\n",
    "plt.ylabel('loss')\n",
    "plt.xlabel('epoch')\n",
    "plt.legend(['train', 'test'], loc='upper left')\n",
    "plt.show()"
   ]
  },
  {
   "cell_type": "code",
   "execution_count": null,
   "metadata": {},
   "outputs": [],
   "source": []
  }
 ],
 "metadata": {
  "kernelspec": {
   "display_name": "Python 3",
   "language": "python",
   "name": "python3"
  },
  "language_info": {
   "codemirror_mode": {
    "name": "ipython",
    "version": 3
   },
   "file_extension": ".py",
   "mimetype": "text/x-python",
   "name": "python",
   "nbconvert_exporter": "python",
   "pygments_lexer": "ipython3",
   "version": "3.6.5"
  }
 },
 "nbformat": 4,
 "nbformat_minor": 2
}
