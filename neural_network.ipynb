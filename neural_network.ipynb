{
 "cells": [
  {
   "cell_type": "markdown",
   "metadata": {},
   "source": [
    "# Import data"
   ]
  },
  {
   "cell_type": "code",
   "execution_count": 1,
   "metadata": {},
   "outputs": [],
   "source": [
    "import numpy as np\n",
    "import pandas as pd\n",
    "from load_data import LoadData\n",
    "from sklearn.utils import shuffle"
   ]
  },
  {
   "cell_type": "code",
   "execution_count": 2,
   "metadata": {},
   "outputs": [],
   "source": [
    "data = LoadData(15)"
   ]
  },
  {
   "cell_type": "code",
   "execution_count": 3,
   "metadata": {},
   "outputs": [
    {
     "name": "stdout",
     "output_type": "stream",
     "text": [
      "no image\n",
      "(224, 4)\n"
     ]
    },
    {
     "data": {
      "text/html": [
       "<div>\n",
       "<style scoped>\n",
       "    .dataframe tbody tr th:only-of-type {\n",
       "        vertical-align: middle;\n",
       "    }\n",
       "\n",
       "    .dataframe tbody tr th {\n",
       "        vertical-align: top;\n",
       "    }\n",
       "\n",
       "    .dataframe thead th {\n",
       "        text-align: right;\n",
       "    }\n",
       "</style>\n",
       "<table border=\"1\" class=\"dataframe\">\n",
       "  <thead>\n",
       "    <tr style=\"text-align: right;\">\n",
       "      <th></th>\n",
       "      <th>blue</th>\n",
       "      <th>green</th>\n",
       "      <th>red</th>\n",
       "      <th>label</th>\n",
       "    </tr>\n",
       "  </thead>\n",
       "  <tbody>\n",
       "    <tr>\n",
       "      <th>64</th>\n",
       "      <td>1</td>\n",
       "      <td>225</td>\n",
       "      <td>220</td>\n",
       "      <td>4</td>\n",
       "    </tr>\n",
       "    <tr>\n",
       "      <th>117</th>\n",
       "      <td>145</td>\n",
       "      <td>57</td>\n",
       "      <td>43</td>\n",
       "      <td>12</td>\n",
       "    </tr>\n",
       "    <tr>\n",
       "      <th>32</th>\n",
       "      <td>17</td>\n",
       "      <td>198</td>\n",
       "      <td>248</td>\n",
       "      <td>2</td>\n",
       "    </tr>\n",
       "    <tr>\n",
       "      <th>136</th>\n",
       "      <td>0</td>\n",
       "      <td>198</td>\n",
       "      <td>250</td>\n",
       "      <td>2</td>\n",
       "    </tr>\n",
       "    <tr>\n",
       "      <th>122</th>\n",
       "      <td>0</td>\n",
       "      <td>239</td>\n",
       "      <td>246</td>\n",
       "      <td>3</td>\n",
       "    </tr>\n",
       "  </tbody>\n",
       "</table>\n",
       "</div>"
      ],
      "text/plain": [
       "     blue  green  red  label\n",
       "64      1    225  220      4\n",
       "117   145     57   43     12\n",
       "32     17    198  248      2\n",
       "136     0    198  250      2\n",
       "122     0    239  246      3"
      ]
     },
     "execution_count": 3,
     "metadata": {},
     "output_type": "execute_result"
    }
   ],
   "source": [
    "df = data.load_data()\n",
    "df = shuffle(df)\n",
    "print(df.shape)\n",
    "df.head()"
   ]
  },
  {
   "cell_type": "markdown",
   "metadata": {},
   "source": [
    "## Prepare data "
   ]
  },
  {
   "cell_type": "code",
   "execution_count": 61,
   "metadata": {},
   "outputs": [
    {
     "name": "stderr",
     "output_type": "stream",
     "text": [
      "c:\\users\\asus\\appdata\\local\\programs\\python\\python3.6.5\\lib\\site-packages\\sklearn\\utils\\validation.py:475: DataConversionWarning: Data with input dtype int32 was converted to float64 by the scale function.\n",
      "  warnings.warn(msg, DataConversionWarning)\n"
     ]
    }
   ],
   "source": [
    "from sklearn.cross_validation import train_test_split\n",
    "from sklearn.preprocessing import scale\n",
    "from keras.utils import np_utils\n",
    "X = np.array(df.drop(['label'],axis=1))\n",
    "X = scale(X)\n",
    "y = np.array(df['label'])\n",
    "X_train, X_test, y_train, y_test = train_test_split(X, y)\n",
    "X_train = X_train.astype('float32')\n",
    "X_test = X_test.astype('float32')\n",
    "y_val = np_utils.to_categorical(y_test)\n",
    "dummy_y = np_utils.to_categorical(y_train)\n",
    "# X_train.shape, X_test.shape, y_train.shape, y_test.shape"
   ]
  },
  {
   "cell_type": "markdown",
   "metadata": {},
   "source": [
    "# Create model"
   ]
  },
  {
   "cell_type": "code",
   "execution_count": 52,
   "metadata": {},
   "outputs": [],
   "source": [
    "from keras.models import Sequential\n",
    "from keras.layers import Dense, Dropout"
   ]
  },
  {
   "cell_type": "code",
   "execution_count": 53,
   "metadata": {},
   "outputs": [],
   "source": [
    "model = Sequential()\n",
    "model.add(Dense(64,activation='relu',input_shape=(3,)))\n",
    "model.add(Dense(64, activation='relu'))\n",
    "model.add(Dropout(0.2))\n",
    "model.add(Dense(32,activation='relu'))\n",
    "model.add(Dense(15, activation='softmax'))"
   ]
  },
  {
   "cell_type": "code",
   "execution_count": 54,
   "metadata": {},
   "outputs": [],
   "source": [
    "model.compile(loss='categorical_crossentropy',optimizer='adam',metrics=['accuracy'])"
   ]
  },
  {
   "cell_type": "markdown",
   "metadata": {},
   "source": [
    "## Fit model"
   ]
  },
  {
   "cell_type": "code",
   "execution_count": 67,
   "metadata": {},
   "outputs": [
    {
     "name": "stdout",
     "output_type": "stream",
     "text": [
      "Train on 168 samples, validate on 56 samples\n",
      "Epoch 1/4\n",
      "168/168 [==============================] - 0s 3ms/step - loss: 0.3627 - acc: 0.8690 - val_loss: 0.5601 - val_acc: 0.8393\n",
      "Epoch 2/4\n",
      "168/168 [==============================] - 0s 1ms/step - loss: 0.3591 - acc: 0.8810 - val_loss: 0.5518 - val_acc: 0.8393\n",
      "Epoch 3/4\n",
      "168/168 [==============================] - 0s 1ms/step - loss: 0.4172 - acc: 0.8631 - val_loss: 0.5466 - val_acc: 0.8393\n",
      "Epoch 4/4\n",
      "168/168 [==============================] - 0s 1ms/step - loss: 0.3936 - acc: 0.8750 - val_loss: 0.5695 - val_acc: 0.8393\n"
     ]
    }
   ],
   "source": [
    "# I used 100 epoches\n",
    "history = model.fit(X_train, dummy_y, epochs=4,verbose=1, batch_size=5,validation_data=(X_test,y_val))"
   ]
  },
  {
   "cell_type": "code",
   "execution_count": 63,
   "metadata": {},
   "outputs": [
    {
     "name": "stdout",
     "output_type": "stream",
     "text": [
      "True : 5 Pred : 5\n",
      "True : 0 Pred : 0\n",
      "True : 4 Pred : 4\n",
      "True : 3 Pred : 2\n",
      "True : 10 Pred : 10\n",
      "True : 7 Pred : 6\n",
      "True : 13 Pred : 14\n",
      "True : 7 Pred : 7\n",
      "True : 14 Pred : 14\n",
      "True : 0 Pred : 0\n",
      "True : 13 Pred : 13\n",
      "True : 8 Pred : 8\n",
      "True : 11 Pred : 11\n",
      "True : 6 Pred : 5\n",
      "True : 8 Pred : 8\n",
      "True : 4 Pred : 5\n",
      "True : 7 Pred : 7\n",
      "True : 14 Pred : 14\n",
      "True : 14 Pred : 14\n",
      "True : 7 Pred : 6\n",
      "True : 11 Pred : 11\n",
      "True : 6 Pred : 6\n",
      "True : 14 Pred : 14\n",
      "True : 13 Pred : 13\n",
      "True : 2 Pred : 2\n",
      "True : 9 Pred : 9\n",
      "True : 11 Pred : 11\n",
      "True : 10 Pred : 10\n",
      "True : 9 Pred : 9\n",
      "True : 9 Pred : 9\n",
      "True : 5 Pred : 5\n",
      "True : 1 Pred : 1\n",
      "True : 12 Pred : 13\n",
      "True : 1 Pred : 1\n",
      "True : 12 Pred : 12\n",
      "True : 0 Pred : 0\n",
      "True : 3 Pred : 3\n",
      "True : 4 Pred : 4\n",
      "True : 5 Pred : 5\n",
      "True : 13 Pred : 13\n",
      "True : 11 Pred : 11\n",
      "True : 7 Pred : 7\n",
      "True : 4 Pred : 4\n",
      "True : 9 Pred : 10\n",
      "True : 1 Pred : 1\n",
      "True : 3 Pred : 3\n",
      "True : 0 Pred : 0\n",
      "True : 8 Pred : 8\n",
      "True : 7 Pred : 7\n",
      "True : 5 Pred : 4\n",
      "True : 10 Pred : 10\n",
      "True : 7 Pred : 7\n",
      "True : 3 Pred : 3\n",
      "True : 6 Pred : 6\n",
      "True : 10 Pred : 10\n",
      "True : 2 Pred : 2\n"
     ]
    }
   ],
   "source": [
    "pred = model.predict(X_test)\n",
    "# for i in range(len(pred)):\n",
    "#     print(np.max(pred[i]))\n",
    "y_pred = pred.argmax(axis=1)\n",
    "for i in range(len(y_pred)):\n",
    "    print('True : {} Pred : {}'.format(y_test[i],y_pred[i]))"
   ]
  },
  {
   "cell_type": "code",
   "execution_count": 10,
   "metadata": {},
   "outputs": [],
   "source": [
    "# model.save('nn-model.h5')"
   ]
  },
  {
   "cell_type": "code",
   "execution_count": 64,
   "metadata": {},
   "outputs": [
    {
     "data": {
      "text/plain": [
       "0.8392857142857143"
      ]
     },
     "execution_count": 64,
     "metadata": {},
     "output_type": "execute_result"
    }
   ],
   "source": [
    "from sklearn.metrics import accuracy_score\n",
    "accuracy_score(y_test,y_pred)"
   ]
  },
  {
   "cell_type": "markdown",
   "metadata": {},
   "source": [
    "## Plot loss and accuracy score"
   ]
  },
  {
   "cell_type": "code",
   "execution_count": 65,
   "metadata": {},
   "outputs": [
    {
     "data": {
      "image/png": "[encoded data removed]",
      "text/plain": [
       "<Figure size 432x288 with 1 Axes>"
      ]
     },
     "metadata": {},
     "output_type": "display_data"
    }
   ],
   "source": [
    "import matplotlib.pyplot as plt\n",
    "# score \n",
    "plt.plot(history.history['acc'])\n",
    "plt.plot(history.history['val_acc'])\n",
    "plt.ylabel('accuracy')\n",
    "plt.xlabel('epoch')\n",
    "plt.show()"
   ]
  },
  {
   "cell_type": "code",
   "execution_count": 66,
   "metadata": {},
   "outputs": [
    {
     "data": {
      "image/png": "[encoded data removed]",
      "text/plain": [
       "<Figure size 432x288 with 1 Axes>"
      ]
     },
     "metadata": {},
     "output_type": "display_data"
    }
   ],
   "source": [
    "# loss \n",
    "plt.plot(history.history['loss'])\n",
    "plt.plot(history.history['val_loss'])\n",
    "plt.title('model loss')\n",
    "plt.ylabel('loss')\n",
    "plt.xlabel('epoch')\n",
    "plt.legend(['train', 'test'], loc='upper left')\n",
    "plt.show()"
   ]
  },
  {
   "cell_type": "code",
   "execution_count": null,
   "metadata": {},
   "outputs": [],
   "source": []
  }
 ],
 "metadata": {
  "kernelspec": {
   "display_name": "Python 3",
   "language": "python",
   "name": "python3"
  },
  "language_info": {
   "codemirror_mode": {
    "name": "ipython",
    "version": 3
   },
   "file_extension": ".py",
   "mimetype": "text/x-python",
   "name": "python",
   "nbconvert_exporter": "python",
   "pygments_lexer": "ipython3",
   "version": "3.6.5"
  }
 },
 "nbformat": 4,
 "nbformat_minor": 2
}
