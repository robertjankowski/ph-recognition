{
 "cells": [
  {
   "cell_type": "markdown",
   "metadata": {},
   "source": [
    "# ph recognition based on the image color\n",
    " ***\n",
    " \n",
    " ### I downloaded ph-scale images from [link](https://www.shutterstock.com/search/ph+scale). Then I split every image to 15 small ones and I labeled it based on the ph"
   ]
  },
  {
   "cell_type": "code",
   "execution_count": 26,
   "metadata": {},
   "outputs": [],
   "source": [
    "import cv2 # for images\n",
    "import matplotlib.pyplot as plt\n",
    "import pickle\n",
    "import numpy as np\n",
    "import pandas as pd\n",
    "from sklearn.utils import shuffle\n",
    "from sklearn import svm\n",
    "from sklearn.externals import joblib\n",
    "\n",
    "pd.set_option('display.max_columns', None)\n",
    "\n",
    "data_dir = 'C:\\\\Users\\\\asus\\\\Desktop\\\\data_science_python\\\\ph_project\\\\ph_datasets\\\\'"
   ]
  },
  {
   "cell_type": "code",
   "execution_count": 27,
   "metadata": {},
   "outputs": [
    {
     "data": {
      "text/html": [
       "<div>\n",
       "<style scoped>\n",
       "    .dataframe tbody tr th:only-of-type {\n",
       "        vertical-align: middle;\n",
       "    }\n",
       "\n",
       "    .dataframe tbody tr th {\n",
       "        vertical-align: top;\n",
       "    }\n",
       "\n",
       "    .dataframe thead th {\n",
       "        text-align: right;\n",
       "    }\n",
       "</style>\n",
       "<table border=\"1\" class=\"dataframe\">\n",
       "  <thead>\n",
       "    <tr style=\"text-align: right;\">\n",
       "      <th></th>\n",
       "      <th>blue</th>\n",
       "      <th>green</th>\n",
       "      <th>red</th>\n",
       "      <th>label</th>\n",
       "    </tr>\n",
       "  </thead>\n",
       "  <tbody>\n",
       "    <tr>\n",
       "      <th>68</th>\n",
       "      <td>84</td>\n",
       "      <td>166</td>\n",
       "      <td>0</td>\n",
       "      <td>8</td>\n",
       "    </tr>\n",
       "    <tr>\n",
       "      <th>32</th>\n",
       "      <td>17</td>\n",
       "      <td>198</td>\n",
       "      <td>248</td>\n",
       "      <td>2</td>\n",
       "    </tr>\n",
       "    <tr>\n",
       "      <th>67</th>\n",
       "      <td>0</td>\n",
       "      <td>153</td>\n",
       "      <td>0</td>\n",
       "      <td>7</td>\n",
       "    </tr>\n",
       "    <tr>\n",
       "      <th>61</th>\n",
       "      <td>27</td>\n",
       "      <td>83</td>\n",
       "      <td>255</td>\n",
       "      <td>1</td>\n",
       "    </tr>\n",
       "    <tr>\n",
       "      <th>55</th>\n",
       "      <td>200</td>\n",
       "      <td>144</td>\n",
       "      <td>73</td>\n",
       "      <td>10</td>\n",
       "    </tr>\n",
       "  </tbody>\n",
       "</table>\n",
       "</div>"
      ],
      "text/plain": [
       "    blue  green  red  label\n",
       "68    84    166    0      8\n",
       "32    17    198  248      2\n",
       "67     0    153    0      7\n",
       "61    27     83  255      1\n",
       "55   200    144   73     10"
      ]
     },
     "execution_count": 27,
     "metadata": {},
     "output_type": "execute_result"
    }
   ],
   "source": [
    "PH_COUNT = 15\n",
    "images_list = []\n",
    "PH_DATASETS = 7\n",
    "# add image to list in format [blue, green, red, label=ph]\n",
    "for j in range(PH_DATASETS):\n",
    "    for i in range(PH_COUNT):\n",
    "        image = cv2.imread(data_dir + 'ph{}\\\\{}.jpg'.format(j+1, i))\n",
    "        images_list.append([image[3][3][0],image[3][3][1],image[3][3][2],i])\n",
    "\n",
    "# transform data to pandas DataFrame\n",
    "df = pd.DataFrame(np.asarray(images_list),columns=['blue','green','red','label'])\n",
    "df = shuffle(df)\n",
    "df.head()"
   ]
  },
  {
   "cell_type": "code",
   "execution_count": 13,
   "metadata": {},
   "outputs": [],
   "source": [
    "y = np.array(df['label']) \n",
    "X = np.array(df.drop(['label'], axis=1))\n",
    "# print(X)"
   ]
  },
  {
   "cell_type": "markdown",
   "metadata": {},
   "source": [
    "# test and train data "
   ]
  },
  {
   "cell_type": "code",
   "execution_count": 14,
   "metadata": {},
   "outputs": [],
   "source": [
    "SIZE = X.shape[0]\n",
    "TRAIN_SIZE = int(SIZE*0.8)\n",
    "train_x = X[:TRAIN_SIZE]\n",
    "train_y = y[:TRAIN_SIZE]\n",
    "test_x = X[TRAIN_SIZE:]\n",
    "test_y = y[TRAIN_SIZE:]"
   ]
  },
  {
   "cell_type": "markdown",
   "metadata": {},
   "source": [
    "# Testing machine learning algorithms\n",
    "\n",
    "***\n",
    "\n",
    " svm -> very bad results\n",
    "\n",
    "decision tree -> accuracy 0.57%, add 1 point mistake -> accuracy 0,95% \n",
    "\n",
    "gredient boosting classifier -> accuracy 0.47%"
   ]
  },
  {
   "cell_type": "code",
   "execution_count": 53,
   "metadata": {},
   "outputs": [
    {
     "data": {
      "text/plain": [
       "GradientBoostingRegressor(alpha=0.9, criterion='friedman_mse', init=None,\n",
       "             learning_rate=0.1, loss='ls', max_depth=3, max_features=None,\n",
       "             max_leaf_nodes=None, min_impurity_decrease=0.0,\n",
       "             min_impurity_split=None, min_samples_leaf=1,\n",
       "             min_samples_split=2, min_weight_fraction_leaf=0.0,\n",
       "             n_estimators=100, presort='auto', random_state=None,\n",
       "             subsample=1.0, verbose=0, warm_start=False)"
      ]
     },
     "execution_count": 53,
     "metadata": {},
     "output_type": "execute_result"
    }
   ],
   "source": [
    "from sklearn import tree\n",
    "from sklearn.ensemble import GradientBoostingClassifier\n",
    "from sklearn.ensemble import GradientBoostingRegressor\n",
    "clf = GradientBoostingRegressor()\n",
    "clf.fit(train_x, train_y)"
   ]
  },
  {
   "cell_type": "code",
   "execution_count": 54,
   "metadata": {
    "scrolled": true
   },
   "outputs": [
    {
     "name": "stdout",
     "output_type": "stream",
     "text": [
      "Predict 6.022316133377997, labels 6\n",
      "Predict 6.179363820970485, labels 6\n",
      "Predict 12.397021877053094, labels 12\n",
      "Predict 0.23262833771536454, labels 0\n",
      "Predict 13.223374768560294, labels 13\n",
      "Predict 8.995948477022658, labels 9\n",
      "Predict 6.022316133377997, labels 6\n",
      "Predict 8.995948477022658, labels 8\n",
      "Predict 11.658411342660076, labels 12\n",
      "Predict 0.006063371049064589, labels 0\n",
      "Predict 0.7769754093019112, labels 1\n",
      "Predict 10.976236003373401, labels 11\n",
      "Predict 0.9374502131359876, labels 1\n",
      "Predict 10.002864379205464, labels 9\n",
      "Predict 3.720628855574921, labels 3\n",
      "Predict 6.992665174748736, labels 7\n",
      "Predict 2.0120518107750787, labels 2\n",
      "Predict 11.664674588625694, labels 12\n",
      "Predict 0.9374502131359876, labels 1\n",
      "Predict 2.3696431544259844, labels 2\n",
      "Predict 6.172626284334054, labels 6\n",
      "0.8571428571428571\n",
      "0.9916893085533858\n"
     ]
    }
   ],
   "source": [
    "# testing \n",
    "accuracy = 0\n",
    "for i in range(len(test_x)):\n",
    "    y_predict = clf.predict([test_x[i]])\n",
    "    print('Predict {}, labels {}'.format(y_predict[0],test_y[i]))\n",
    "    # with 1 margin point\n",
    "    if(abs(y_predict[0] - test_y[i]) <= 0.5):\n",
    "        accuracy += 1\n",
    "accuracy = float(accuracy/len(test_x))\n",
    "print(accuracy)\n",
    "# return the mean accuracy on the given test data and labels\n",
    "print(clf.score(test_x, test_y))"
   ]
  },
  {
   "cell_type": "code",
   "execution_count": 35,
   "metadata": {},
   "outputs": [
    {
     "data": {
      "text/plain": [
       "['gradient_regression_85.pkl']"
      ]
     },
     "execution_count": 35,
     "metadata": {},
     "output_type": "execute_result"
    }
   ],
   "source": [
    "# save tree model \n",
    "joblib.dump(clf,'gradient_regression_85.pkl')"
   ]
  }
 ],
 "metadata": {
  "kernelspec": {
   "display_name": "Python 3",
   "language": "python",
   "name": "python3"
  },
  "language_info": {
   "codemirror_mode": {
    "name": "ipython",
    "version": 3
   },
   "file_extension": ".py",
   "mimetype": "text/x-python",
   "name": "python",
   "nbconvert_exporter": "python",
   "pygments_lexer": "ipython3",
   "version": "3.6.5"
  }
 },
 "nbformat": 4,
 "nbformat_minor": 2
}
